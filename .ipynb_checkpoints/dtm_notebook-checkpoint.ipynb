{
 "cells": [
  {
   "cell_type": "markdown",
   "metadata": {},
   "source": [
    "## This Notebook is for a quick walkthrough of the Laplace approximationa algorithm in inferring a posterior distribution of dynamic topic modeling\n",
    "### [original paper link](http://repository.cmu.edu/cgi/viewcontent.cgi?article=2036&context=compsci)"
   ]
  },
  {
   "cell_type": "markdown",
   "metadata": {},
   "source": [
    "### Data generation process:\n",
    "For each topic k at time t=0 <br>\n",
    "$\\beta_{k,0} \\sim N(0,I)$ <br>\n",
    "<br>\n",
    "For each topic k at time t $>$ 0 <br>\n",
    "$\\beta_{k,t} \\sim N(\\beta_{k,t-1},\\sigma^2 I)$ <br>\n",
    "<br>\n",
    "For each document d at time t <br>\n",
    "$\\theta_{t,d} \\sim Dirichlet(\\alpha)$ <br>\n",
    "<br>\n",
    "For each word n at document d at time t<br>\n",
    "$z_{t,d}^{n} \\sim Discrete(\\theta_{t,d})$<br>\n",
    "$w_{t,d}^{n} \\sim Discrete(\\pi(\\beta_{z_{t,d}^{n},t}))$<br>"
   ]
  },
  {
   "cell_type": "markdown",
   "metadata": {},
   "source": [
    "### We first simulate some fake data by the above process\n",
    "### For simplicity, we assume each document is of the same length D here"
   ]
  },
  {
   "cell_type": "code",
   "execution_count": 1,
   "metadata": {
    "collapsed": true
   },
   "outputs": [],
   "source": [
    "import numpy as np\n",
    "from simulate import *"
   ]
  },
  {
   "cell_type": "markdown",
   "metadata": {},
   "source": [
    "### some hyper parameters"
   ]
  },
  {
   "cell_type": "code",
   "execution_count": 2,
   "metadata": {},
   "outputs": [],
   "source": [
    "K = 5\n",
    "V = 7\n",
    "N = 10\n",
    "D = 20\n",
    "T = 3\n",
    "sigma = 0.1\n",
    "alpha_0 = np.array([1]*K)"
   ]
  },
  {
   "cell_type": "code",
   "execution_count": 3,
   "metadata": {},
   "outputs": [
    {
     "name": "stdout",
     "output_type": "stream",
     "text": [
      "topics= 5, vocab = 7, D = 20, N = 10, T =3\n"
     ]
    },
    {
     "data": {
      "text/plain": [
       "array([[[ 5.,  6.,  4.,  4.,  1.,  4.,  4.,  4.,  6.,  0.],\n",
       "        [ 3.,  3.,  1.,  4.,  4.,  5.,  2.,  3.,  2.,  0.],\n",
       "        [ 0.,  6.,  4.,  4.,  6.,  6.,  6.,  1.,  6.,  1.],\n",
       "        [ 4.,  6.,  1.,  5.,  3.,  4.,  0.,  6.,  2.,  1.],\n",
       "        [ 2.,  3.,  5.,  4.,  5.,  6.,  5.,  5.,  6.,  3.],\n",
       "        [ 2.,  2.,  5.,  5.,  5.,  3.,  2.,  2.,  6.,  0.],\n",
       "        [ 3.,  3.,  5.,  5.,  6.,  4.,  4.,  1.,  3.,  2.],\n",
       "        [ 2.,  1.,  5.,  5.,  3.,  3.,  2.,  5.,  0.,  0.],\n",
       "        [ 0.,  3.,  6.,  5.,  5.,  6.,  4.,  0.,  5.,  2.],\n",
       "        [ 2.,  2.,  5.,  2.,  4.,  1.,  0.,  5.,  5.,  5.],\n",
       "        [ 5.,  5.,  4.,  2.,  2.,  0.,  2.,  3.,  1.,  3.],\n",
       "        [ 2.,  5.,  6.,  6.,  6.,  2.,  1.,  0.,  4.,  4.],\n",
       "        [ 4.,  2.,  6.,  6.,  3.,  1.,  3.,  2.,  1.,  5.],\n",
       "        [ 3.,  5.,  2.,  1.,  5.,  0.,  5.,  3.,  3.,  2.],\n",
       "        [ 3.,  2.,  3.,  6.,  2.,  3.,  2.,  2.,  2.,  5.],\n",
       "        [ 6.,  3.,  3.,  5.,  3.,  2.,  2.,  6.,  5.,  3.],\n",
       "        [ 3.,  2.,  2.,  4.,  6.,  0.,  4.,  2.,  6.,  6.],\n",
       "        [ 5.,  5.,  4.,  5.,  3.,  5.,  1.,  4.,  2.,  0.],\n",
       "        [ 4.,  3.,  2.,  5.,  2.,  6.,  5.,  6.,  4.,  6.],\n",
       "        [ 3.,  3.,  5.,  6.,  0.,  6.,  4.,  1.,  3.,  2.]],\n",
       "\n",
       "       [[ 5.,  4.,  5.,  4.,  6.,  3.,  2.,  2.,  4.,  5.],\n",
       "        [ 4.,  2.,  3.,  5.,  6.,  6.,  0.,  4.,  2.,  2.],\n",
       "        [ 4.,  1.,  4.,  2.,  4.,  6.,  2.,  4.,  3.,  4.],\n",
       "        [ 2.,  2.,  4.,  2.,  0.,  4.,  2.,  6.,  4.,  2.],\n",
       "        [ 2.,  0.,  2.,  3.,  2.,  3.,  3.,  4.,  6.,  3.],\n",
       "        [ 3.,  1.,  2.,  3.,  6.,  2.,  2.,  5.,  2.,  3.],\n",
       "        [ 4.,  5.,  5.,  5.,  4.,  2.,  6.,  6.,  2.,  3.],\n",
       "        [ 0.,  2.,  2.,  3.,  0.,  2.,  5.,  2.,  6.,  2.],\n",
       "        [ 0.,  4.,  6.,  3.,  1.,  5.,  4.,  4.,  5.,  5.],\n",
       "        [ 2.,  1.,  4.,  0.,  3.,  6.,  5.,  2.,  4.,  3.],\n",
       "        [ 4.,  3.,  3.,  5.,  5.,  0.,  3.,  2.,  0.,  2.],\n",
       "        [ 0.,  3.,  2.,  6.,  6.,  3.,  2.,  5.,  3.,  3.],\n",
       "        [ 2.,  3.,  3.,  4.,  6.,  6.,  5.,  3.,  5.,  4.],\n",
       "        [ 5.,  2.,  6.,  6.,  3.,  5.,  5.,  2.,  6.,  5.],\n",
       "        [ 5.,  1.,  3.,  3.,  3.,  6.,  2.,  2.,  3.,  4.],\n",
       "        [ 5.,  3.,  3.,  5.,  6.,  3.,  1.,  3.,  3.,  3.],\n",
       "        [ 2.,  0.,  5.,  4.,  0.,  1.,  3.,  3.,  2.,  3.],\n",
       "        [ 0.,  5.,  3.,  0.,  5.,  6.,  5.,  4.,  3.,  4.],\n",
       "        [ 1.,  5.,  5.,  2.,  6.,  4.,  4.,  4.,  2.,  6.],\n",
       "        [ 5.,  0.,  3.,  3.,  5.,  1.,  2.,  4.,  3.,  3.]],\n",
       "\n",
       "       [[ 5.,  4.,  0.,  5.,  3.,  2.,  0.,  3.,  6.,  4.],\n",
       "        [ 3.,  6.,  5.,  2.,  3.,  3.,  4.,  0.,  6.,  5.],\n",
       "        [ 5.,  5.,  5.,  2.,  4.,  2.,  6.,  2.,  2.,  2.],\n",
       "        [ 4.,  3.,  3.,  5.,  4.,  4.,  5.,  3.,  5.,  4.],\n",
       "        [ 5.,  3.,  3.,  0.,  1.,  6.,  0.,  6.,  1.,  2.],\n",
       "        [ 3.,  6.,  5.,  3.,  3.,  4.,  3.,  4.,  0.,  0.],\n",
       "        [ 2.,  5.,  0.,  6.,  6.,  5.,  4.,  6.,  3.,  5.],\n",
       "        [ 2.,  3.,  5.,  2.,  2.,  6.,  2.,  2.,  6.,  2.],\n",
       "        [ 5.,  6.,  2.,  3.,  3.,  0.,  2.,  1.,  4.,  6.],\n",
       "        [ 1.,  6.,  5.,  1.,  5.,  1.,  2.,  5.,  0.,  5.],\n",
       "        [ 2.,  6.,  3.,  0.,  3.,  0.,  5.,  4.,  4.,  3.],\n",
       "        [ 0.,  2.,  1.,  5.,  3.,  5.,  6.,  3.,  4.,  3.],\n",
       "        [ 6.,  2.,  0.,  5.,  4.,  0.,  4.,  3.,  0.,  4.],\n",
       "        [ 2.,  6.,  5.,  6.,  3.,  3.,  2.,  2.,  2.,  2.],\n",
       "        [ 6.,  6.,  5.,  2.,  2.,  4.,  3.,  5.,  6.,  4.],\n",
       "        [ 2.,  0.,  2.,  5.,  5.,  5.,  4.,  5.,  5.,  5.],\n",
       "        [ 3.,  6.,  6.,  3.,  4.,  6.,  4.,  3.,  4.,  4.],\n",
       "        [ 2.,  6.,  2.,  5.,  6.,  2.,  2.,  5.,  2.,  1.],\n",
       "        [ 0.,  5.,  2.,  5.,  5.,  5.,  4.,  4.,  4.,  5.],\n",
       "        [ 6.,  4.,  1.,  5.,  6.,  2.,  5.,  5.,  2.,  3.]]])"
      ]
     },
     "execution_count": 3,
     "metadata": {},
     "output_type": "execute_result"
    }
   ],
   "source": [
    "simulate_data(K=K, V=V, N=N, D=D, T=T, sigma = sigma, alpha_0 = alpha_0)"
   ]
  },
  {
   "cell_type": "code",
   "execution_count": 4,
   "metadata": {},
   "outputs": [
    {
     "data": {
      "text/plain": [
       "5"
      ]
     },
     "execution_count": 4,
     "metadata": {},
     "output_type": "execute_result"
    }
   ],
   "source": [
    "K"
   ]
  },
  {
   "cell_type": "code",
   "execution_count": null,
   "metadata": {
    "collapsed": true
   },
   "outputs": [],
   "source": []
  }
 ],
 "metadata": {
  "kernelspec": {
   "display_name": "Python 3",
   "language": "python",
   "name": "python3"
  },
  "language_info": {
   "codemirror_mode": {
    "name": "ipython",
    "version": 3
   },
   "file_extension": ".py",
   "mimetype": "text/x-python",
   "name": "python",
   "nbconvert_exporter": "python",
   "pygments_lexer": "ipython3",
   "version": "3.6.3"
  }
 },
 "nbformat": 4,
 "nbformat_minor": 2
}
