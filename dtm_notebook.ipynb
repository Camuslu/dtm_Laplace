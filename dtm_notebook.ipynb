{
 "cells": [
  {
   "cell_type": "markdown",
   "metadata": {},
   "source": [
    "## This is a quick walkthrough of the Laplace approximationa algorithm in inferrence of a posterior distribution of dynamic topic modeling\n",
    "### [original paper link](http://repository.cmu.edu/cgi/viewcontent.cgi?article=2036&context=compsci)"
   ]
  },
  {
   "cell_type": "markdown",
   "metadata": {},
   "source": [
    "### Data generation process:\n",
    "For each topic k at time t=0 <br>\n",
    "$\\beta_{k,0} \\sim N(0,I)$ <br>\n",
    "<br>\n",
    "For each topic k at time t $>$ 0 <br>\n",
    "$\\beta_{k,t} \\sim N(\\beta_{k,t-1},\\sigma^2 I)$ <br>\n",
    "<br>\n",
    "For each document d at time t <br>\n",
    "$\\theta_{t,d} \\sim Dirichlet(\\alpha)$ <br>\n",
    "<br>\n",
    "For each word n at document d at time t<br>\n",
    "$z_{t,d}^{n} \\sim Discrete(\\theta_{t,d})$<br>\n",
    "$w_{t,d}^{n} \\sim Discrete(\\pi(\\beta_{z_{t,d}^{n},t}))$<br>"
   ]
  },
  {
   "cell_type": "markdown",
   "metadata": {},
   "source": [
    "### We first simulate some fake data per the above data generation process\n",
    "### For simplicity, we assume each document is of the same length D"
   ]
  },
  {
   "cell_type": "code",
   "execution_count": 1,
   "metadata": {
    "collapsed": true
   },
   "outputs": [],
   "source": [
    "import numpy as np\n",
    "from scipy import misc\n",
    "import math\n",
    "import matplotlib.pyplot as plt\n",
    "from scipy.optimize import minimize, rosen, rosen_der\n",
    "from simulate import *"
   ]
  },
  {
   "cell_type": "code",
   "execution_count": 2,
   "metadata": {},
   "outputs": [],
   "source": [
    "from variational_inference import *"
   ]
  },
  {
   "cell_type": "code",
   "execution_count": 3,
   "metadata": {},
   "outputs": [],
   "source": [
    "np.random.seed(seed=123)"
   ]
  },
  {
   "cell_type": "markdown",
   "metadata": {},
   "source": [
    "### some hyper parameters"
   ]
  },
  {
   "cell_type": "code",
   "execution_count": 4,
   "metadata": {},
   "outputs": [],
   "source": [
    "K = 5\n",
    "V = 500\n",
    "N = 40\n",
    "D = 30\n",
    "T = 10\n",
    "sigma = 0.1\n",
    "alpha_0 = np.array([1]*K)"
   ]
  },
  {
   "cell_type": "code",
   "execution_count": 5,
   "metadata": {},
   "outputs": [
    {
     "name": "stdout",
     "output_type": "stream",
     "text": [
      "topics= 5, vocab = 500, D = 30, N = 40, T =10\n",
      "glance of simulated data at t=0\n"
     ]
    },
    {
     "data": {
      "text/plain": [
       "array([[ 181.,    1.,   95.,   58.,  306.,   80.,  496.,  222.,   73.,\n",
       "         469.,  282.,  166.,   36.,   55.,  331.,  132.,   92.,  126.,\n",
       "         399.,  141.,   20.,   57.,  283.,  270.,  256.,   92.,  148.,\n",
       "          54.,  314.,    8.,  258.,  240.,  303.,  124.,  335.,  103.,\n",
       "         259.,  105.,  210.,  304.],\n",
       "       [ 247.,   52.,   18.,  375.,  362.,  426.,  382.,  439.,  371.,\n",
       "          57.,  364.,   91.,  343.,  271.,  349.,  363.,  213.,  430.,\n",
       "          68.,  249.,  391.,  371.,  271.,  491.,  259.,  470.,  324.,\n",
       "         420.,  440.,  273.,  183.,   16.,   54.,  475.,  368.,  331.,\n",
       "         178.,  454.,  231.,  103.],\n",
       "       [ 389.,  334.,   17.,  314.,  448.,    4.,  116.,   65.,  409.,\n",
       "         259.,  277.,   91.,   75.,  470.,  117.,  260.,   26.,  211.,\n",
       "         141.,  231.,  427.,  228.,  270.,  141.,  305.,  414.,  120.,\n",
       "         470.,  269.,  287.,  175.,  478.,  231.,  495.,   29.,  350.,\n",
       "         438.,   23.,   87.,  495.],\n",
       "       [ 209.,   27.,   82.,  395.,  328.,   98.,   68.,   78.,  214.,\n",
       "         478.,  298.,  161.,  428.,  435.,   54.,  252.,  247.,  309.,\n",
       "         312.,  166.,  246.,  481.,  344.,  304.,  119.,  353.,  217.,\n",
       "         202.,   11.,  404.,  493.,   20.,  352.,  424.,  253.,  419.,\n",
       "         326.,  235.,  386.,  333.]])"
      ]
     },
     "execution_count": 5,
     "metadata": {},
     "output_type": "execute_result"
    }
   ],
   "source": [
    "document_sim, real_beta = simulate_data(K=K, V=V, N=N, D=D, T=T, sigma = sigma, alpha_0 = alpha_0)\n",
    "print(\"glance of simulated data at t=0\")\n",
    "document_sim[0][:4]\n"
   ]
  },
  {
   "cell_type": "code",
   "execution_count": 12,
   "metadata": {},
   "outputs": [
    {
     "data": {
      "text/plain": [
       "(10, 30, 40)"
      ]
     },
     "execution_count": 12,
     "metadata": {},
     "output_type": "execute_result"
    }
   ],
   "source": [
    "document_sim.shape"
   ]
  },
  {
   "cell_type": "code",
   "execution_count": 14,
   "metadata": {},
   "outputs": [
    {
     "data": {
      "text/plain": [
       "(5, 500)"
      ]
     },
     "execution_count": 14,
     "metadata": {},
     "output_type": "execute_result"
    }
   ],
   "source": [
    "real_beta[0].shape"
   ]
  },
  {
   "cell_type": "code",
   "execution_count": 6,
   "metadata": {},
   "outputs": [],
   "source": [
    "VI =  variational_inference(T = T, D= D, K=K, N=N,V = V, iters=200, document = document_sim, sample_size = 1000)"
   ]
  },
  {
   "cell_type": "code",
   "execution_count": null,
   "metadata": {},
   "outputs": [
    {
     "name": "stdout",
     "output_type": "stream",
     "text": [
      "update takes 24 sec\n",
      "ELBO calculation takes 0 sec\n",
      "epoch = 0, elbo = -62648\n",
      "phi[t=0][d=0][n=0]: [ 0.16755616  0.23459565  0.15884173  0.22727072  0.21173574]\n",
      "update takes 25 sec\n",
      "ELBO calculation takes 0 sec\n",
      "epoch = 1, elbo = -62644\n",
      "phi[t=0][d=0][n=0]: [ 0.169745    0.23248174  0.16136326  0.22563951  0.21077049]\n",
      "update takes 25 sec\n",
      "ELBO calculation takes 0 sec\n",
      "epoch = 2, elbo = -62646\n",
      "phi[t=0][d=0][n=0]: [ 0.1713251   0.23074622  0.16361379  0.22488916  0.20942573]\n",
      "epoch = 3, elbo = -62632\n",
      "phi[t=0][d=0][n=0]: [ 0.17280482  0.22908033  0.16544264  0.22366626  0.20900595]\n",
      "epoch = 4, elbo = -62638\n",
      "phi[t=0][d=0][n=0]: [ 0.17380635  0.22748222  0.16728059  0.222716    0.20871484]\n",
      "epoch = 5, elbo = -62626\n",
      "phi[t=0][d=0][n=0]: [ 0.17526238  0.22545139  0.16902398  0.22179091  0.20847134]\n",
      "epoch = 6, elbo = -62623\n",
      "phi[t=0][d=0][n=0]: [ 0.1768246   0.22390841  0.17083774  0.22079518  0.20763407]\n",
      "epoch = 7, elbo = -62615\n",
      "phi[t=0][d=0][n=0]: [ 0.17798513  0.22194384  0.17301308  0.22010995  0.206948  ]\n",
      "epoch = 8, elbo = -62610\n",
      "phi[t=0][d=0][n=0]: [ 0.17891375  0.22128941  0.17419796  0.21885155  0.20674733]\n",
      "epoch = 9, elbo = -62599\n",
      "phi[t=0][d=0][n=0]: [ 0.18012435  0.22036453  0.17485017  0.21778926  0.20687168]\n",
      "epoch = 10, elbo = -62587\n",
      "phi[t=0][d=0][n=0]: [ 0.18108325  0.21922278  0.1761773   0.21696798  0.20654868]\n",
      "epoch = 11, elbo = -62579\n",
      "phi[t=0][d=0][n=0]: [ 0.18174514  0.21840361  0.17760024  0.21625958  0.20599143]\n",
      "epoch = 12, elbo = -62565\n",
      "phi[t=0][d=0][n=0]: [ 0.18262847  0.21716982  0.17905835  0.21540736  0.20573599]\n",
      "epoch = 13, elbo = -62553\n",
      "phi[t=0][d=0][n=0]: [ 0.18342467  0.21683798  0.17979573  0.21435467  0.20558694]\n",
      "epoch = 14, elbo = -62546\n",
      "phi[t=0][d=0][n=0]: [ 0.18407677  0.21592309  0.18083318  0.21405266  0.2051143 ]\n",
      "epoch = 15, elbo = -62530\n",
      "phi[t=0][d=0][n=0]: [ 0.18524253  0.21432905  0.18172414  0.21384432  0.20485997]\n",
      "epoch = 16, elbo = -62516\n",
      "phi[t=0][d=0][n=0]: [ 0.18644271  0.21340903  0.1827834   0.21357207  0.2037928 ]\n",
      "epoch = 17, elbo = -62500\n",
      "phi[t=0][d=0][n=0]: [ 0.18704825  0.21308808  0.18329105  0.21307416  0.20349846]\n",
      "epoch = 18, elbo = -62490\n",
      "phi[t=0][d=0][n=0]: [ 0.18755648  0.21239534  0.184356    0.21246102  0.20323116]\n",
      "epoch = 19, elbo = -62477\n",
      "phi[t=0][d=0][n=0]: [ 0.18811619  0.21195966  0.1854299   0.2119195   0.20257475]\n",
      "epoch = 20, elbo = -62467\n",
      "phi[t=0][d=0][n=0]: [ 0.18870325  0.21155728  0.18616998  0.21132769  0.20224181]\n",
      "epoch = 21, elbo = -62448\n",
      "phi[t=0][d=0][n=0]: [ 0.18874169  0.21114557  0.18737608  0.21053599  0.20220067]\n",
      "epoch = 22, elbo = -62439\n",
      "phi[t=0][d=0][n=0]: [ 0.18932603  0.21066629  0.1875672   0.21001874  0.20242174]\n",
      "epoch = 23, elbo = -62424\n",
      "phi[t=0][d=0][n=0]: [ 0.18966496  0.21059184  0.18796399  0.20947043  0.20230878]\n",
      "epoch = 24, elbo = -62407\n",
      "phi[t=0][d=0][n=0]: [ 0.18956301  0.21020076  0.18835252  0.20962813  0.20225558]\n"
     ]
    }
   ],
   "source": [
    "VI.train()"
   ]
  },
  {
   "cell_type": "code",
   "execution_count": 18,
   "metadata": {},
   "outputs": [
    {
     "data": {
      "image/png": "[encoded data removed]",
      "text/plain": [
       "<matplotlib.figure.Figure at 0x1a27ef6198>"
      ]
     },
     "metadata": {},
     "output_type": "display_data"
    }
   ],
   "source": [
    "plt.plot(range(VI.iters),VI.ELBO_iter)\n",
    "plt.show()"
   ]
  },
  {
   "cell_type": "code",
   "execution_count": 19,
   "metadata": {},
   "outputs": [
    {
     "data": {
      "text/plain": [
       "array([-0.29321627, -0.12749   ,  0.45210905,  0.89524806, -0.12522719,\n",
       "       -0.36910768, -0.35650309,  0.06015394,  0.15585133, -0.0601214 ,\n",
       "       -0.34875604,  0.00968762, -0.16273831, -0.40923823, -0.11954274,\n",
       "       -0.26131289,  0.31248507, -0.42055271,  0.49128626, -0.57042216,\n",
       "       -0.1372837 , -0.39164428,  0.3165389 ,  0.00140656,  0.25360884,\n",
       "       -0.35672064,  0.34954823, -0.05380233, -0.28215706, -0.06784658,\n",
       "        0.21332122,  0.0060246 , -0.29575984, -0.46677222, -0.37736683,\n",
       "        0.84277454,  0.84506644,  0.62001576,  0.01135701,  0.21672454])"
      ]
     },
     "execution_count": 19,
     "metadata": {},
     "output_type": "execute_result"
    }
   ],
   "source": [
    "VI.mu_beta_t[0][0]"
   ]
  },
  {
   "cell_type": "code",
   "execution_count": 21,
   "metadata": {},
   "outputs": [
    {
     "data": {
      "text/plain": [
       "array([-0.29175428, -0.1271418 ,  0.45830929,  0.90632615, -0.12390987,\n",
       "       -0.37197696, -0.3622443 ,  0.05881977,  0.15651099, -0.06584133,\n",
       "       -0.3525124 ,  0.01269681, -0.16358441, -0.41244317, -0.11526824,\n",
       "       -0.2672998 ,  0.31431326, -0.42541229,  0.49510344, -0.57586259,\n",
       "       -0.1378049 , -0.39573832,  0.32068482,  0.00142207,  0.25632797,\n",
       "       -0.35439888,  0.34295664, -0.05647751, -0.28478146, -0.06480302,\n",
       "        0.21891803,  0.00380675, -0.2987307 , -0.4682813 , -0.3793331 ,\n",
       "        0.85168074,  0.8474418 ,  0.62322852,  0.0055311 ,  0.22102955])"
      ]
     },
     "execution_count": 21,
     "metadata": {},
     "output_type": "execute_result"
    }
   ],
   "source": [
    "VI.mu_beta_t[1][0]"
   ]
  },
  {
   "cell_type": "code",
   "execution_count": 20,
   "metadata": {},
   "outputs": [
    {
     "data": {
      "text/plain": [
       "array([-0.29401347, -0.1347927 ,  0.42397632,  0.94709113, -0.11125612,\n",
       "       -0.38234314, -0.37161342,  0.0700861 ,  0.16732529, -0.07945175,\n",
       "       -0.36608403,  0.02435243, -0.1799848 , -0.43662101, -0.13615017,\n",
       "       -0.27979216,  0.30833201, -0.43951006,  0.48260859, -0.58589291,\n",
       "       -0.16599693, -0.40056747,  0.26512913,  0.03120364,  0.26467144,\n",
       "       -0.36722056,  0.36780514, -0.05429989, -0.30067906, -0.05807905,\n",
       "        0.20779411, -0.00791177, -0.30817168, -0.47468589, -0.37566135,\n",
       "        0.90439204,  0.83716329,  0.66945278,  0.00909627,  0.33111097])"
      ]
     },
     "execution_count": 20,
     "metadata": {},
     "output_type": "execute_result"
    }
   ],
   "source": [
    "VI.mu_beta_t[0][1]"
   ]
  },
  {
   "cell_type": "markdown",
   "metadata": {},
   "source": [
    "### ELBO for each word\n",
    "### $ \\mathbb{E}_{q(\\theta)q(z)q(\\beta)}[log p(z_{t,d}^{n}| \\theta_{t,d}) + log p(w_{t,d}^{n} |z_{t,d}^{n}, \\beta_{t}) ] $\n",
    "### $ = \\mathbb{E}_{q(\\theta)q(z)} log \\prod {\\theta_{t,d}^k} ^ {\\mathbb{1}(z_{t,d}^{n}=k)} + \\mathbb{E}_{q(z)q(\\beta)} log [\\pi (\\beta_{t,z})_{w})]$\n",
    "### $ = \\mathbb{E}_{q(\\theta)q(z)} \\Sigma_{k=1}^{K} {\\mathbb{1}(z_{t,d}^{n}=k)}{log(\\theta_{t,d}^k)}+ \\mathbb{E}_{q(z)q(\\beta)} log \\frac{exp(\\beta_{t,z}^{w})}{\\Sigma_{v=1}^{V}exp(\\beta_{t,z}^{v})}$\n",
    "### $ = \\Sigma_{k=1}^{K} \\mathbb{E}_{q(z)}{\\mathbb{1}(z_{t,d}^{n}=k)}\\mathbb{E}_{q(\\theta)}{log(\\theta_{t,d}^k)}+ \\mathbb{E}_{q(z)q(\\beta)} \\beta_{t,z}^{w} - \\mathbb{E}_{q(z)q(\\beta)}log{\\Sigma_{v=1}^{V}exp(\\beta_{t,z}^{v})}$\n",
    "###  $ = \\Sigma_{k=1}^{K} \\phi_{t,d}^{n,k}[\\psi(\\alpha_{t,d}^{k})-\\psi(\\Sigma_{j=1}^{K} \\alpha_{t,d}^{j})] + \\Sigma_{k=1}^{K} \\phi_{t,d}^{n,k} \\mathbb{E}_{q(\\beta)}\\beta_{t,k}^{w} - \\Sigma_{k=1}^{K} \\phi_{t,d}^{n,k} \\mathbb{E}_{q(\\beta)}log{\\Sigma_{v=1}^{V}exp(\\beta_{t,k}^{v})}$\n",
    "### $= \\Sigma_{k=1}^{K} \\phi_{t,d}^{n,k}[\\psi(\\alpha_{t,d}^{k})-\\psi(\\Sigma_{j=1}^{K} \\alpha_{t,d}^{j})+\\hat{\\beta}_{t,k}^{w} - \\mathbb{E}_{q(\\beta)}log{\\Sigma_{v=1}^{V}exp(\\beta_{t,k}^{v})} ]$\n",
    "### $ = <\\phi_{t,d}^{n}, \\nu>$ where $\\nu$ is a k-dim vector of the above [ . ]\n",
    "\n"
   ]
  },
  {
   "cell_type": "code",
   "execution_count": 21,
   "metadata": {
    "collapsed": true
   },
   "outputs": [],
   "source": [
    "sigma = 0.1\n",
    "mu_beta_t = np.zeros((T,K,V))\n"
   ]
  },
  {
   "cell_type": "code",
   "execution_count": 25,
   "metadata": {},
   "outputs": [
    {
     "data": {
      "text/plain": [
       "0.0"
      ]
     },
     "execution_count": 25,
     "metadata": {},
     "output_type": "execute_result"
    }
   ],
   "source": [
    "np.dot(mu_beta_t[1][0],np.zeros(V))"
   ]
  },
  {
   "cell_type": "code",
   "execution_count": 42,
   "metadata": {},
   "outputs": [],
   "source": [
    "def gradient_descent_beta_0(k):\n",
    "\t\t# find mode of f(beta) for topic k, or argmin of -f(beta)\n",
    "\t\tb_val=VI.B_func(k, 0)\n",
    "\t\tprint (b_val)\n",
    "\t\tfn = lambda beta: sum(b_val)*misc.logsumexp(beta) + 0.5*np.dot(beta,beta)+0.5/(sigma ** 2)*np.dot(beta,beta)  \\\n",
    "\t\t\t\t\t\t  -1.0/(sigma ** 2)*np.dot(mu_beta_t[1][k],beta) - np.dot(b_val,beta)\n",
    "\t\tres = minimize(fn, np.zeros(V), method='SLSQP')\n",
    "\t\treturn res.x"
   ]
  },
  {
   "cell_type": "code",
   "execution_count": 43,
   "metadata": {},
   "outputs": [
    {
     "name": "stdout",
     "output_type": "stream",
     "text": [
      "[ 0.9721798   2.46581516  3.44943762  2.81773588  1.42188582  4.13926261\n",
      "  2.68356306  1.08347345  2.41848312  1.43145707  0.79428081  2.29031376\n",
      "  1.37628041  1.69388171  1.48885897  3.67032398  1.12066492  0.7013976\n",
      "  0.72593331  3.74211005  3.29940863  2.97436223  1.6055524   1.50354636\n",
      "  0.22613523  0.81202214  0.96311194  2.99879647  1.38844294  3.73827541\n",
      "  1.62877744  2.34350388  3.38847099  1.17303244  1.26562711  3.76226273\n",
      "  0.15166374  0.80083004  3.12762528  2.19700618]\n"
     ]
    },
    {
     "data": {
      "text/plain": [
       "array([-0.00993966,  0.00456341,  0.01411244,  0.00798007, -0.0055727 ,\n",
       "        0.02080835,  0.00667749, -0.00885888,  0.00410389, -0.00547973,\n",
       "       -0.01166727,  0.00285953, -0.00601551, -0.00293155, -0.00492236,\n",
       "        0.01625664, -0.00849776, -0.01256932, -0.01233103,  0.01695344,\n",
       "        0.01265608,  0.00950064, -0.00378922, -0.00477976, -0.01718499,\n",
       "       -0.011495  , -0.01002777,  0.00973783, -0.00589743,  0.01691623,\n",
       "       -0.00356372,  0.00337593,  0.01352066, -0.00798919, -0.00709005,\n",
       "        0.01714905, -0.01790828, -0.01160371,  0.01098847,  0.00195355])"
      ]
     },
     "execution_count": 43,
     "metadata": {},
     "output_type": "execute_result"
    }
   ],
   "source": [
    "gradient_descent_beta_0(0)"
   ]
  },
  {
   "cell_type": "code",
   "execution_count": null,
   "metadata": {
    "collapsed": true
   },
   "outputs": [],
   "source": []
  }
 ],
 "metadata": {
  "kernelspec": {
   "display_name": "Python 3",
   "language": "python",
   "name": "python3"
  },
  "language_info": {
   "codemirror_mode": {
    "name": "ipython",
    "version": 3
   },
   "file_extension": ".py",
   "mimetype": "text/x-python",
   "name": "python",
   "nbconvert_exporter": "python",
   "pygments_lexer": "ipython3",
   "version": "3.6.3"
  }
 },
 "nbformat": 4,
 "nbformat_minor": 2
}
