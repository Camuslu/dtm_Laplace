{
 "cells": [
  {
   "cell_type": "markdown",
   "metadata": {},
   "source": [
    "## This is a quick walkthrough of the Laplace approximationa algorithm in inferrence of a posterior distribution of dynamic topic modeling\n",
    "### [original paper link](http://repository.cmu.edu/cgi/viewcontent.cgi?article=2036&context=compsci)"
   ]
  },
  {
   "cell_type": "markdown",
   "metadata": {},
   "source": [
    "### Data generation process:\n",
    "For each topic k at time t=0 <br>\n",
    "$\\beta_{k,0} \\sim N(0,I)$ <br>\n",
    "<br>\n",
    "For each topic k at time t $>$ 0 <br>\n",
    "$\\beta_{k,t} \\sim N(\\beta_{k,t-1},\\sigma^2 I)$ <br>\n",
    "<br>\n",
    "For each document d at time t <br>\n",
    "$\\theta_{t,d} \\sim Dirichlet(\\alpha)$ <br>\n",
    "<br>\n",
    "For each word n at document d at time t<br>\n",
    "$z_{t,d}^{n} \\sim Discrete(\\theta_{t,d})$<br>\n",
    "$w_{t,d}^{n} \\sim Discrete(\\pi(\\beta_{z_{t,d}^{n},t}))$<br>"
   ]
  },
  {
   "cell_type": "markdown",
   "metadata": {},
   "source": [
    "### We first simulate some fake data per the above data generation process\n",
    "### For simplicity, we assume each document is of the same length D"
   ]
  },
  {
   "cell_type": "code",
   "execution_count": 1,
   "metadata": {
    "collapsed": true
   },
   "outputs": [],
   "source": [
    "import numpy as np\n",
    "from simulate import *"
   ]
  },
  {
   "cell_type": "markdown",
   "metadata": {},
   "source": [
    "### some hyper parameters"
   ]
  },
  {
   "cell_type": "code",
   "execution_count": 2,
   "metadata": {},
   "outputs": [],
   "source": [
    "K = 5\n",
    "V = 7\n",
    "N = 10\n",
    "D = 20\n",
    "T = 3\n",
    "sigma = 0.1\n",
    "alpha_0 = np.array([1]*K)"
   ]
  },
  {
   "cell_type": "code",
   "execution_count": 3,
   "metadata": {},
   "outputs": [
    {
     "name": "stdout",
     "output_type": "stream",
     "text": [
      "topics= 5, vocab = 7, D = 20, N = 10, T =3\n",
      "simulated data at t=0\n"
     ]
    },
    {
     "data": {
      "text/plain": [
       "array([[ 5.,  4.,  5.,  5.,  4.,  4.,  0.,  4.,  2.,  3.],\n",
       "       [ 1.,  6.,  2.,  1.,  0.,  1.,  3.,  4.,  4.,  4.],\n",
       "       [ 3.,  5.,  6.,  4.,  3.,  2.,  1.,  6.,  6.,  6.],\n",
       "       [ 4.,  4.,  5.,  0.,  1.,  6.,  4.,  0.,  6.,  4.],\n",
       "       [ 0.,  4.,  5.,  0.,  4.,  3.,  4.,  4.,  4.,  6.],\n",
       "       [ 4.,  4.,  4.,  4.,  5.,  6.,  5.,  1.,  4.,  5.],\n",
       "       [ 3.,  4.,  4.,  1.,  1.,  3.,  6.,  6.,  4.,  1.],\n",
       "       [ 6.,  0.,  3.,  5.,  4.,  5.,  6.,  5.,  0.,  2.],\n",
       "       [ 4.,  4.,  3.,  3.,  4.,  5.,  3.,  5.,  3.,  0.],\n",
       "       [ 3.,  6.,  3.,  4.,  4.,  4.,  2.,  5.,  4.,  6.],\n",
       "       [ 4.,  6.,  6.,  3.,  4.,  6.,  0.,  6.,  2.,  6.],\n",
       "       [ 4.,  3.,  3.,  6.,  4.,  3.,  5.,  5.,  5.,  1.],\n",
       "       [ 4.,  4.,  2.,  4.,  4.,  6.,  5.,  3.,  3.,  4.],\n",
       "       [ 6.,  4.,  5.,  6.,  5.,  0.,  1.,  0.,  0.,  4.],\n",
       "       [ 3.,  1.,  6.,  1.,  5.,  6.,  4.,  0.,  4.,  4.],\n",
       "       [ 1.,  6.,  4.,  0.,  4.,  5.,  0.,  4.,  1.,  1.],\n",
       "       [ 1.,  4.,  2.,  4.,  6.,  2.,  1.,  2.,  6.,  1.],\n",
       "       [ 2.,  6.,  3.,  1.,  6.,  1.,  6.,  6.,  5.,  6.],\n",
       "       [ 6.,  5.,  0.,  1.,  1.,  5.,  4.,  4.,  4.,  4.],\n",
       "       [ 4.,  6.,  5.,  4.,  3.,  5.,  6.,  0.,  6.,  6.]])"
      ]
     },
     "execution_count": 3,
     "metadata": {},
     "output_type": "execute_result"
    }
   ],
   "source": [
    "document_sim = simulate_data(K=K, V=V, N=N, D=D, T=T, sigma = sigma, alpha_0 = alpha_0)\n",
    "print(\"simulated data at t=0\")\n",
    "document_sim[0]\n"
   ]
  },
  {
   "cell_type": "code",
   "execution_count": 4,
   "metadata": {},
   "outputs": [
    {
     "data": {
      "text/plain": [
       "5"
      ]
     },
     "execution_count": 4,
     "metadata": {},
     "output_type": "execute_result"
    }
   ],
   "source": [
    "K"
   ]
  },
  {
   "cell_type": "code",
   "execution_count": null,
   "metadata": {
    "collapsed": true
   },
   "outputs": [],
   "source": []
  }
 ],
 "metadata": {
  "kernelspec": {
   "display_name": "Python 3",
   "language": "python",
   "name": "python3"
  },
  "language_info": {
   "codemirror_mode": {
    "name": "ipython",
    "version": 3
   },
   "file_extension": ".py",
   "mimetype": "text/x-python",
   "name": "python",
   "nbconvert_exporter": "python",
   "pygments_lexer": "ipython3",
   "version": "3.6.3"
  }
 },
 "nbformat": 4,
 "nbformat_minor": 2
}
