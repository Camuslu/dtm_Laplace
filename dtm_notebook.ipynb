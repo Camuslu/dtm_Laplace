{
 "cells": [
  {
   "cell_type": "markdown",
   "metadata": {},
   "source": [
    "## This is a quick walkthrough of the Laplace approximationa algorithm in inferrence of a posterior distribution of dynamic topic modeling\n",
    "### [original paper link](http://repository.cmu.edu/cgi/viewcontent.cgi?article=2036&context=compsci)"
   ]
  },
  {
   "cell_type": "markdown",
   "metadata": {},
   "source": [
    "### Data generation process:\n",
    "For each topic k at time t=0 <br>\n",
    "$\\beta_{k,0} \\sim N(0,I)$ <br>\n",
    "<br>\n",
    "For each topic k at time t $>$ 0 <br>\n",
    "$\\beta_{k,t} \\sim N(\\beta_{k,t-1},\\sigma^2 I)$ <br>\n",
    "<br>\n",
    "For each document d at time t <br>\n",
    "$\\theta_{t,d} \\sim Dirichlet(\\alpha)$ <br>\n",
    "<br>\n",
    "For each word n at document d at time t<br>\n",
    "$z_{t,d}^{n} \\sim Discrete(\\theta_{t,d})$<br>\n",
    "$w_{t,d}^{n} \\sim Discrete(\\pi(\\beta_{z_{t,d}^{n},t}))$<br>"
   ]
  },
  {
   "cell_type": "markdown",
   "metadata": {},
   "source": [
    "### We first simulate some fake data per the above data generation process\n",
    "### For simplicity, we assume each document is of the same length D"
   ]
  },
  {
   "cell_type": "code",
   "execution_count": 1,
   "metadata": {
    "collapsed": true
   },
   "outputs": [],
   "source": [
    "import numpy as np\n",
    "from scipy import misc\n",
    "import math\n",
    "import matplotlib.pyplot as plt\n",
    "from scipy.optimize import minimize, rosen, rosen_der\n",
    "from simulate import *"
   ]
  },
  {
   "cell_type": "code",
   "execution_count": 2,
   "metadata": {},
   "outputs": [],
   "source": [
    "from variational_inference import *"
   ]
  },
  {
   "cell_type": "code",
   "execution_count": 3,
   "metadata": {
    "collapsed": true
   },
   "outputs": [],
   "source": [
    "np.random.seed(seed=123)"
   ]
  },
  {
   "cell_type": "markdown",
   "metadata": {},
   "source": [
    "### some hyper parameters"
   ]
  },
  {
   "cell_type": "code",
   "execution_count": 4,
   "metadata": {
    "collapsed": true
   },
   "outputs": [],
   "source": [
    "K = 5\n",
    "V = 500\n",
    "N = 40\n",
    "D = 30\n",
    "T = 10\n",
    "sigma = 0.1\n",
    "alpha_0 = np.array([1]*K)"
   ]
  },
  {
   "cell_type": "code",
   "execution_count": 5,
   "metadata": {},
   "outputs": [
    {
     "name": "stdout",
     "output_type": "stream",
     "text": [
      "topics= 5, vocab = 500, D = 30, N = 40, T =10\n",
      "glance of simulated data at t=0\n"
     ]
    },
    {
     "data": {
      "text/plain": [
       "array([[181,   1,  95,  58, 306,  80, 496, 222,  73, 469, 282, 166,  36,\n",
       "         55, 331, 132,  92, 126, 399, 141,  20,  57, 283, 270, 256,  92,\n",
       "        148,  54, 314,   8, 258, 240, 303, 124, 335, 103, 259, 105, 210,\n",
       "        304],\n",
       "       [247,  52,  18, 375, 362, 426, 382, 439, 371,  57, 364,  91, 343,\n",
       "        271, 349, 363, 213, 430,  68, 249, 391, 371, 271, 491, 259, 470,\n",
       "        324, 420, 440, 273, 183,  16,  54, 475, 368, 331, 178, 454, 231,\n",
       "        103],\n",
       "       [389, 334,  17, 314, 448,   4, 116,  65, 409, 259, 277,  91,  75,\n",
       "        470, 117, 260,  26, 211, 141, 231, 427, 228, 270, 141, 305, 414,\n",
       "        120, 470, 269, 287, 175, 478, 231, 495,  29, 350, 438,  23,  87,\n",
       "        495],\n",
       "       [209,  27,  82, 395, 328,  98,  68,  78, 214, 478, 298, 161, 428,\n",
       "        435,  54, 252, 247, 309, 312, 166, 246, 481, 344, 304, 119, 353,\n",
       "        217, 202,  11, 404, 493,  20, 352, 424, 253, 419, 326, 235, 386,\n",
       "        333]])"
      ]
     },
     "execution_count": 5,
     "metadata": {},
     "output_type": "execute_result"
    }
   ],
   "source": [
    "document_sim, real_beta = simulate_data(K=K, V=V, N=N, D=D, T=T, sigma = sigma, alpha_0 = alpha_0)\n",
    "print(\"glance of simulated data at t=0\")\n",
    "document_sim[0][:4]\n"
   ]
  },
  {
   "cell_type": "code",
   "execution_count": 6,
   "metadata": {},
   "outputs": [
    {
     "data": {
      "text/plain": [
       "(10, 30, 40)"
      ]
     },
     "execution_count": 6,
     "metadata": {},
     "output_type": "execute_result"
    }
   ],
   "source": [
    "document_sim.shape"
   ]
  },
  {
   "cell_type": "code",
   "execution_count": 6,
   "metadata": {},
   "outputs": [
    {
     "data": {
      "text/plain": [
       "numpy.float64"
      ]
     },
     "execution_count": 6,
     "metadata": {},
     "output_type": "execute_result"
    }
   ],
   "source": [
    "type(document_sim[0][0][0])"
   ]
  },
  {
   "cell_type": "code",
   "execution_count": 14,
   "metadata": {},
   "outputs": [
    {
     "data": {
      "text/plain": [
       "(5, 500)"
      ]
     },
     "execution_count": 14,
     "metadata": {},
     "output_type": "execute_result"
    }
   ],
   "source": [
    "real_beta[0].shape"
   ]
  },
  {
   "cell_type": "code",
   "execution_count": 6,
   "metadata": {
    "collapsed": true
   },
   "outputs": [],
   "source": [
    "VI =  variational_inference(T = T, D= D, K=K, N=N,V = V, iters=200, document = document_sim, sample_size = 1000)"
   ]
  },
  {
   "cell_type": "code",
   "execution_count": 7,
   "metadata": {},
   "outputs": [
    {
     "name": "stdout",
     "output_type": "stream",
     "text": [
      "update takes 79 sec\n",
      "ELBO calculation takes 0 sec\n",
      "epoch = 0, elbo = -65597\n",
      "phi[t=0][d=0][n=0]: [ 0.16755613  0.23459602  0.15884207  0.22727045  0.21173533]\n",
      "update takes 77 sec\n",
      "ELBO calculation takes 0 sec\n",
      "epoch = 1, elbo = -65594\n",
      "phi[t=0][d=0][n=0]: [ 0.16974546  0.23248203  0.1613636   0.22563883  0.21077008]\n",
      "update takes 77 sec\n",
      "ELBO calculation takes 0 sec\n",
      "epoch = 2, elbo = -65596\n",
      "phi[t=0][d=0][n=0]: [ 0.17132403  0.23074714  0.16361245  0.22489001  0.20942638]\n",
      "epoch = 3, elbo = -65581\n",
      "phi[t=0][d=0][n=0]: [ 0.17280428  0.22908227  0.16543955  0.22366633  0.20900757]\n"
     ]
    },
    {
     "ename": "KeyboardInterrupt",
     "evalue": "",
     "output_type": "error",
     "traceback": [
      "\u001b[0;31m---------------------------------------------------------------------------\u001b[0m",
      "\u001b[0;31mKeyboardInterrupt\u001b[0m                         Traceback (most recent call last)",
      "\u001b[0;32m<ipython-input-7-375f8bc95930>\u001b[0m in \u001b[0;36m<module>\u001b[0;34m()\u001b[0m\n\u001b[0;32m----> 1\u001b[0;31m \u001b[0mVI\u001b[0m\u001b[0;34m.\u001b[0m\u001b[0mtrain\u001b[0m\u001b[0;34m(\u001b[0m\u001b[0;34m)\u001b[0m\u001b[0;34m\u001b[0m\u001b[0m\n\u001b[0m",
      "\u001b[0;32m~/Desktop/GitHub/dtm/variational_inference.py\u001b[0m in \u001b[0;36mtrain\u001b[0;34m(self)\u001b[0m\n\u001b[1;32m    264\u001b[0m                         \u001b[0;31m# self.update_beta_T()\u001b[0m\u001b[0;34m\u001b[0m\u001b[0;34m\u001b[0m\u001b[0m\n\u001b[1;32m    265\u001b[0m                         \u001b[0;31m#print \"beta T updated\"\u001b[0m\u001b[0;34m\u001b[0m\u001b[0;34m\u001b[0m\u001b[0m\n\u001b[0;32m--> 266\u001b[0;31m                         \u001b[0mself\u001b[0m\u001b[0;34m.\u001b[0m\u001b[0mupdate_beta\u001b[0m\u001b[0;34m(\u001b[0m\u001b[0;34m)\u001b[0m\u001b[0;34m\u001b[0m\u001b[0m\n\u001b[0m\u001b[1;32m    267\u001b[0m                         \u001b[0mself\u001b[0m\u001b[0;34m.\u001b[0m\u001b[0mupdate_alpha\u001b[0m\u001b[0;34m(\u001b[0m\u001b[0;34m)\u001b[0m\u001b[0;34m\u001b[0m\u001b[0m\n\u001b[1;32m    268\u001b[0m                         \u001b[0mself\u001b[0m\u001b[0;34m.\u001b[0m\u001b[0mupdate_EXP_log_sum_exp_beta_t_k\u001b[0m\u001b[0;34m(\u001b[0m\u001b[0;34m)\u001b[0m\u001b[0;34m\u001b[0m\u001b[0m\n",
      "\u001b[0;32m~/Desktop/GitHub/dtm/variational_inference.py\u001b[0m in \u001b[0;36mupdate_beta\u001b[0;34m(self)\u001b[0m\n\u001b[1;32m     98\u001b[0m                 \u001b[0;32mfor\u001b[0m \u001b[0mt\u001b[0m \u001b[0;32min\u001b[0m \u001b[0mrange\u001b[0m\u001b[0;34m(\u001b[0m\u001b[0mself\u001b[0m\u001b[0;34m.\u001b[0m\u001b[0mT\u001b[0m\u001b[0;34m)\u001b[0m\u001b[0;34m:\u001b[0m\u001b[0;34m\u001b[0m\u001b[0m\n\u001b[1;32m     99\u001b[0m                         \u001b[0;32mfor\u001b[0m \u001b[0mk\u001b[0m \u001b[0;32min\u001b[0m \u001b[0mrange\u001b[0m\u001b[0;34m(\u001b[0m\u001b[0mself\u001b[0m\u001b[0;34m.\u001b[0m\u001b[0mK\u001b[0m\u001b[0;34m)\u001b[0m\u001b[0;34m:\u001b[0m\u001b[0;34m\u001b[0m\u001b[0m\n\u001b[0;32m--> 100\u001b[0;31m                                 \u001b[0mself\u001b[0m\u001b[0;34m.\u001b[0m\u001b[0mmu_beta_t\u001b[0m\u001b[0;34m[\u001b[0m\u001b[0mt\u001b[0m\u001b[0;34m]\u001b[0m\u001b[0;34m[\u001b[0m\u001b[0mk\u001b[0m\u001b[0;34m]\u001b[0m\u001b[0;34m,\u001b[0m \u001b[0mb_val\u001b[0m \u001b[0;34m=\u001b[0m \u001b[0mself\u001b[0m\u001b[0;34m.\u001b[0m\u001b[0mgradient_descent_beta\u001b[0m\u001b[0;34m(\u001b[0m\u001b[0mt\u001b[0m\u001b[0;34m,\u001b[0m \u001b[0mk\u001b[0m\u001b[0;34m)\u001b[0m\u001b[0;34m\u001b[0m\u001b[0m\n\u001b[0m\u001b[1;32m    101\u001b[0m                                 \u001b[0ms\u001b[0m \u001b[0;34m=\u001b[0m \u001b[0mnp\u001b[0m\u001b[0;34m.\u001b[0m\u001b[0mexp\u001b[0m\u001b[0;34m(\u001b[0m\u001b[0mself\u001b[0m\u001b[0;34m.\u001b[0m\u001b[0mmu_beta_t\u001b[0m\u001b[0;34m[\u001b[0m\u001b[0mt\u001b[0m\u001b[0;34m]\u001b[0m\u001b[0;34m[\u001b[0m\u001b[0mk\u001b[0m\u001b[0;34m]\u001b[0m\u001b[0;34m)\u001b[0m\u001b[0;34m\u001b[0m\u001b[0m\n\u001b[1;32m    102\u001b[0m                                 \u001b[0mt_val\u001b[0m \u001b[0;34m=\u001b[0m \u001b[0msum\u001b[0m\u001b[0;34m(\u001b[0m\u001b[0ms\u001b[0m\u001b[0;34m)\u001b[0m\u001b[0;34m\u001b[0m\u001b[0m\n",
      "\u001b[0;32m~/Desktop/GitHub/dtm/variational_inference.py\u001b[0m in \u001b[0;36mgradient_descent_beta\u001b[0;34m(self, t, k)\u001b[0m\n\u001b[1;32m     82\u001b[0m         \u001b[0;32mdef\u001b[0m \u001b[0mgradient_descent_beta\u001b[0m\u001b[0;34m(\u001b[0m\u001b[0mself\u001b[0m\u001b[0;34m,\u001b[0m \u001b[0mt\u001b[0m\u001b[0;34m,\u001b[0m \u001b[0mk\u001b[0m\u001b[0;34m)\u001b[0m\u001b[0;34m:\u001b[0m\u001b[0;34m\u001b[0m\u001b[0m\n\u001b[1;32m     83\u001b[0m                 \u001b[0;31m# find mode of f(beta) for topic k, or argmin of -f(beta)\u001b[0m\u001b[0;34m\u001b[0m\u001b[0;34m\u001b[0m\u001b[0m\n\u001b[0;32m---> 84\u001b[0;31m                 \u001b[0mb_val\u001b[0m\u001b[0;34m=\u001b[0m\u001b[0mself\u001b[0m\u001b[0;34m.\u001b[0m\u001b[0mB_func\u001b[0m\u001b[0;34m(\u001b[0m\u001b[0mt\u001b[0m\u001b[0;34m,\u001b[0m \u001b[0mk\u001b[0m\u001b[0;34m)\u001b[0m\u001b[0;34m\u001b[0m\u001b[0m\n\u001b[0m\u001b[1;32m     85\u001b[0m                 \u001b[0;32mif\u001b[0m \u001b[0mt\u001b[0m\u001b[0;34m==\u001b[0m\u001b[0;36m0\u001b[0m\u001b[0;34m:\u001b[0m\u001b[0;34m\u001b[0m\u001b[0m\n\u001b[1;32m     86\u001b[0m                         \u001b[0mfn\u001b[0m \u001b[0;34m=\u001b[0m \u001b[0;32mlambda\u001b[0m \u001b[0mbeta\u001b[0m\u001b[0;34m:\u001b[0m \u001b[0msum\u001b[0m\u001b[0;34m(\u001b[0m\u001b[0mb_val\u001b[0m\u001b[0;34m)\u001b[0m\u001b[0;34m*\u001b[0m\u001b[0mmisc\u001b[0m\u001b[0;34m.\u001b[0m\u001b[0mlogsumexp\u001b[0m\u001b[0;34m(\u001b[0m\u001b[0mbeta\u001b[0m\u001b[0;34m)\u001b[0m \u001b[0;34m+\u001b[0m \u001b[0;36m0.5\u001b[0m\u001b[0;34m*\u001b[0m\u001b[0mnp\u001b[0m\u001b[0;34m.\u001b[0m\u001b[0mdot\u001b[0m\u001b[0;34m(\u001b[0m\u001b[0mbeta\u001b[0m\u001b[0;34m,\u001b[0m\u001b[0mbeta\u001b[0m\u001b[0;34m)\u001b[0m\u001b[0;34m+\u001b[0m\u001b[0;36m0.5\u001b[0m\u001b[0;34m/\u001b[0m\u001b[0;34m(\u001b[0m\u001b[0mself\u001b[0m\u001b[0;34m.\u001b[0m\u001b[0msigma\u001b[0m \u001b[0;34m**\u001b[0m \u001b[0;36m2\u001b[0m\u001b[0;34m)\u001b[0m\u001b[0;34m*\u001b[0m\u001b[0mnp\u001b[0m\u001b[0;34m.\u001b[0m\u001b[0mdot\u001b[0m\u001b[0;34m(\u001b[0m\u001b[0mbeta\u001b[0m\u001b[0;34m,\u001b[0m\u001b[0mbeta\u001b[0m\u001b[0;34m)\u001b[0m\u001b[0;31m \u001b[0m\u001b[0;31m \u001b[0m\u001b[0;31m\\\u001b[0m\u001b[0;34m\u001b[0m\u001b[0m\n",
      "\u001b[0;32m~/Desktop/GitHub/dtm/variational_inference.py\u001b[0m in \u001b[0;36mB_func\u001b[0;34m(self, t, k)\u001b[0m\n\u001b[1;32m     76\u001b[0m                         \u001b[0mphi_t_d_k\u001b[0m \u001b[0;34m=\u001b[0m \u001b[0mself\u001b[0m\u001b[0;34m.\u001b[0m\u001b[0mphi\u001b[0m\u001b[0;34m[\u001b[0m\u001b[0mt\u001b[0m\u001b[0;34m]\u001b[0m\u001b[0;34m[\u001b[0m\u001b[0md\u001b[0m\u001b[0;34m]\u001b[0m\u001b[0;34m.\u001b[0m\u001b[0mtranspose\u001b[0m\u001b[0;34m(\u001b[0m\u001b[0;34m)\u001b[0m\u001b[0;34m[\u001b[0m\u001b[0mk\u001b[0m\u001b[0;34m]\u001b[0m \u001b[0;31m#length N\u001b[0m\u001b[0;34m\u001b[0m\u001b[0m\n\u001b[1;32m     77\u001b[0m                         \u001b[0mdoc_t_d\u001b[0m \u001b[0;34m=\u001b[0m \u001b[0mself\u001b[0m\u001b[0;34m.\u001b[0m\u001b[0mdocument\u001b[0m\u001b[0;34m[\u001b[0m\u001b[0mt\u001b[0m\u001b[0;34m]\u001b[0m\u001b[0;34m[\u001b[0m\u001b[0md\u001b[0m\u001b[0;34m]\u001b[0m\u001b[0;34m\u001b[0m\u001b[0m\n\u001b[0;32m---> 78\u001b[0;31m                         \u001b[0mone_hot\u001b[0m \u001b[0;34m=\u001b[0m \u001b[0mnp\u001b[0m\u001b[0;34m.\u001b[0m\u001b[0marray\u001b[0m\u001b[0;34m(\u001b[0m\u001b[0;34m[\u001b[0m\u001b[0mnp\u001b[0m\u001b[0;34m.\u001b[0m\u001b[0meye\u001b[0m\u001b[0;34m(\u001b[0m\u001b[0mself\u001b[0m\u001b[0;34m.\u001b[0m\u001b[0mV\u001b[0m\u001b[0;34m)\u001b[0m\u001b[0;34m[\u001b[0m\u001b[0midx\u001b[0m\u001b[0;34m]\u001b[0m \u001b[0;32mfor\u001b[0m \u001b[0midx\u001b[0m \u001b[0;32min\u001b[0m \u001b[0mdoc_t_d\u001b[0m\u001b[0;34m]\u001b[0m\u001b[0;34m)\u001b[0m  \u001b[0;31m#N by V\u001b[0m\u001b[0;34m\u001b[0m\u001b[0m\n\u001b[0m\u001b[1;32m     79\u001b[0m                         \u001b[0mB_t_k\u001b[0m \u001b[0;34m+=\u001b[0m \u001b[0mnp\u001b[0m\u001b[0;34m.\u001b[0m\u001b[0mdot\u001b[0m\u001b[0;34m(\u001b[0m\u001b[0mphi_t_d_k\u001b[0m\u001b[0;34m,\u001b[0m \u001b[0mone_hot\u001b[0m\u001b[0;34m)\u001b[0m\u001b[0;34m\u001b[0m\u001b[0m\n\u001b[1;32m     80\u001b[0m                 \u001b[0;32mreturn\u001b[0m \u001b[0mB_t_k\u001b[0m\u001b[0;34m\u001b[0m\u001b[0m\n",
      "\u001b[0;32m~/Desktop/GitHub/dtm/variational_inference.py\u001b[0m in \u001b[0;36m<listcomp>\u001b[0;34m(.0)\u001b[0m\n\u001b[1;32m     76\u001b[0m                         \u001b[0mphi_t_d_k\u001b[0m \u001b[0;34m=\u001b[0m \u001b[0mself\u001b[0m\u001b[0;34m.\u001b[0m\u001b[0mphi\u001b[0m\u001b[0;34m[\u001b[0m\u001b[0mt\u001b[0m\u001b[0;34m]\u001b[0m\u001b[0;34m[\u001b[0m\u001b[0md\u001b[0m\u001b[0;34m]\u001b[0m\u001b[0;34m.\u001b[0m\u001b[0mtranspose\u001b[0m\u001b[0;34m(\u001b[0m\u001b[0;34m)\u001b[0m\u001b[0;34m[\u001b[0m\u001b[0mk\u001b[0m\u001b[0;34m]\u001b[0m \u001b[0;31m#length N\u001b[0m\u001b[0;34m\u001b[0m\u001b[0m\n\u001b[1;32m     77\u001b[0m                         \u001b[0mdoc_t_d\u001b[0m \u001b[0;34m=\u001b[0m \u001b[0mself\u001b[0m\u001b[0;34m.\u001b[0m\u001b[0mdocument\u001b[0m\u001b[0;34m[\u001b[0m\u001b[0mt\u001b[0m\u001b[0;34m]\u001b[0m\u001b[0;34m[\u001b[0m\u001b[0md\u001b[0m\u001b[0;34m]\u001b[0m\u001b[0;34m\u001b[0m\u001b[0m\n\u001b[0;32m---> 78\u001b[0;31m                         \u001b[0mone_hot\u001b[0m \u001b[0;34m=\u001b[0m \u001b[0mnp\u001b[0m\u001b[0;34m.\u001b[0m\u001b[0marray\u001b[0m\u001b[0;34m(\u001b[0m\u001b[0;34m[\u001b[0m\u001b[0mnp\u001b[0m\u001b[0;34m.\u001b[0m\u001b[0meye\u001b[0m\u001b[0;34m(\u001b[0m\u001b[0mself\u001b[0m\u001b[0;34m.\u001b[0m\u001b[0mV\u001b[0m\u001b[0;34m)\u001b[0m\u001b[0;34m[\u001b[0m\u001b[0midx\u001b[0m\u001b[0;34m]\u001b[0m \u001b[0;32mfor\u001b[0m \u001b[0midx\u001b[0m \u001b[0;32min\u001b[0m \u001b[0mdoc_t_d\u001b[0m\u001b[0;34m]\u001b[0m\u001b[0;34m)\u001b[0m  \u001b[0;31m#N by V\u001b[0m\u001b[0;34m\u001b[0m\u001b[0m\n\u001b[0m\u001b[1;32m     79\u001b[0m                         \u001b[0mB_t_k\u001b[0m \u001b[0;34m+=\u001b[0m \u001b[0mnp\u001b[0m\u001b[0;34m.\u001b[0m\u001b[0mdot\u001b[0m\u001b[0;34m(\u001b[0m\u001b[0mphi_t_d_k\u001b[0m\u001b[0;34m,\u001b[0m \u001b[0mone_hot\u001b[0m\u001b[0;34m)\u001b[0m\u001b[0;34m\u001b[0m\u001b[0m\n\u001b[1;32m     80\u001b[0m                 \u001b[0;32mreturn\u001b[0m \u001b[0mB_t_k\u001b[0m\u001b[0;34m\u001b[0m\u001b[0m\n",
      "\u001b[0;32m/anaconda3/lib/python3.6/site-packages/numpy/lib/twodim_base.py\u001b[0m in \u001b[0;36meye\u001b[0;34m(N, M, k, dtype)\u001b[0m\n\u001b[1;32m    185\u001b[0m     \u001b[0;32melse\u001b[0m\u001b[0;34m:\u001b[0m\u001b[0;34m\u001b[0m\u001b[0m\n\u001b[1;32m    186\u001b[0m         \u001b[0mi\u001b[0m \u001b[0;34m=\u001b[0m \u001b[0;34m(\u001b[0m\u001b[0;34m-\u001b[0m\u001b[0mk\u001b[0m\u001b[0;34m)\u001b[0m \u001b[0;34m*\u001b[0m \u001b[0mM\u001b[0m\u001b[0;34m\u001b[0m\u001b[0m\n\u001b[0;32m--> 187\u001b[0;31m     \u001b[0mm\u001b[0m\u001b[0;34m[\u001b[0m\u001b[0;34m:\u001b[0m\u001b[0mM\u001b[0m\u001b[0;34m-\u001b[0m\u001b[0mk\u001b[0m\u001b[0;34m]\u001b[0m\u001b[0;34m.\u001b[0m\u001b[0mflat\u001b[0m\u001b[0;34m[\u001b[0m\u001b[0mi\u001b[0m\u001b[0;34m:\u001b[0m\u001b[0;34m:\u001b[0m\u001b[0mM\u001b[0m\u001b[0;34m+\u001b[0m\u001b[0;36m1\u001b[0m\u001b[0;34m]\u001b[0m \u001b[0;34m=\u001b[0m \u001b[0;36m1\u001b[0m\u001b[0;34m\u001b[0m\u001b[0m\n\u001b[0m\u001b[1;32m    188\u001b[0m     \u001b[0;32mreturn\u001b[0m \u001b[0mm\u001b[0m\u001b[0;34m\u001b[0m\u001b[0m\n\u001b[1;32m    189\u001b[0m \u001b[0;34m\u001b[0m\u001b[0m\n",
      "\u001b[0;31mKeyboardInterrupt\u001b[0m: "
     ]
    }
   ],
   "source": [
    "VI.train()"
   ]
  },
  {
   "cell_type": "code",
   "execution_count": 18,
   "metadata": {},
   "outputs": [
    {
     "data": {
      "image/png": "[encoded data removed]",
      "text/plain": [
       "<matplotlib.figure.Figure at 0x1a27ef6198>"
      ]
     },
     "metadata": {},
     "output_type": "display_data"
    }
   ],
   "source": [
    "plt.plot(range(VI.iters),VI.ELBO_iter)\n",
    "plt.show()"
   ]
  },
  {
   "cell_type": "code",
   "execution_count": 19,
   "metadata": {},
   "outputs": [
    {
     "data": {
      "text/plain": [
       "array([-0.29321627, -0.12749   ,  0.45210905,  0.89524806, -0.12522719,\n",
       "       -0.36910768, -0.35650309,  0.06015394,  0.15585133, -0.0601214 ,\n",
       "       -0.34875604,  0.00968762, -0.16273831, -0.40923823, -0.11954274,\n",
       "       -0.26131289,  0.31248507, -0.42055271,  0.49128626, -0.57042216,\n",
       "       -0.1372837 , -0.39164428,  0.3165389 ,  0.00140656,  0.25360884,\n",
       "       -0.35672064,  0.34954823, -0.05380233, -0.28215706, -0.06784658,\n",
       "        0.21332122,  0.0060246 , -0.29575984, -0.46677222, -0.37736683,\n",
       "        0.84277454,  0.84506644,  0.62001576,  0.01135701,  0.21672454])"
      ]
     },
     "execution_count": 19,
     "metadata": {},
     "output_type": "execute_result"
    }
   ],
   "source": [
    "VI.mu_beta_t[0][0]"
   ]
  },
  {
   "cell_type": "code",
   "execution_count": 21,
   "metadata": {},
   "outputs": [
    {
     "data": {
      "text/plain": [
       "array([-0.29175428, -0.1271418 ,  0.45830929,  0.90632615, -0.12390987,\n",
       "       -0.37197696, -0.3622443 ,  0.05881977,  0.15651099, -0.06584133,\n",
       "       -0.3525124 ,  0.01269681, -0.16358441, -0.41244317, -0.11526824,\n",
       "       -0.2672998 ,  0.31431326, -0.42541229,  0.49510344, -0.57586259,\n",
       "       -0.1378049 , -0.39573832,  0.32068482,  0.00142207,  0.25632797,\n",
       "       -0.35439888,  0.34295664, -0.05647751, -0.28478146, -0.06480302,\n",
       "        0.21891803,  0.00380675, -0.2987307 , -0.4682813 , -0.3793331 ,\n",
       "        0.85168074,  0.8474418 ,  0.62322852,  0.0055311 ,  0.22102955])"
      ]
     },
     "execution_count": 21,
     "metadata": {},
     "output_type": "execute_result"
    }
   ],
   "source": [
    "VI.mu_beta_t[1][0]"
   ]
  },
  {
   "cell_type": "code",
   "execution_count": 20,
   "metadata": {},
   "outputs": [
    {
     "data": {
      "text/plain": [
       "array([-0.29401347, -0.1347927 ,  0.42397632,  0.94709113, -0.11125612,\n",
       "       -0.38234314, -0.37161342,  0.0700861 ,  0.16732529, -0.07945175,\n",
       "       -0.36608403,  0.02435243, -0.1799848 , -0.43662101, -0.13615017,\n",
       "       -0.27979216,  0.30833201, -0.43951006,  0.48260859, -0.58589291,\n",
       "       -0.16599693, -0.40056747,  0.26512913,  0.03120364,  0.26467144,\n",
       "       -0.36722056,  0.36780514, -0.05429989, -0.30067906, -0.05807905,\n",
       "        0.20779411, -0.00791177, -0.30817168, -0.47468589, -0.37566135,\n",
       "        0.90439204,  0.83716329,  0.66945278,  0.00909627,  0.33111097])"
      ]
     },
     "execution_count": 20,
     "metadata": {},
     "output_type": "execute_result"
    }
   ],
   "source": [
    "VI.mu_beta_t[0][1]"
   ]
  },
  {
   "cell_type": "markdown",
   "metadata": {},
   "source": [
    "### ELBO for each word\n",
    "### $ \\mathbb{E}_{q(\\theta)q(z)q(\\beta)}[log p(z_{t,d}^{n}| \\theta_{t,d}) + log p(w_{t,d}^{n} |z_{t,d}^{n}, \\beta_{t}) ] $\n",
    "### $ = \\mathbb{E}_{q(\\theta)q(z)} log \\prod {\\theta_{t,d}^k} ^ {\\mathbb{1}(z_{t,d}^{n}=k)} + \\mathbb{E}_{q(z)q(\\beta)} log [\\pi (\\beta_{t,z})_{w})]$\n",
    "### $ = \\mathbb{E}_{q(\\theta)q(z)} \\Sigma_{k=1}^{K} {\\mathbb{1}(z_{t,d}^{n}=k)}{log(\\theta_{t,d}^k)}+ \\mathbb{E}_{q(z)q(\\beta)} log \\frac{exp(\\beta_{t,z}^{w})}{\\Sigma_{v=1}^{V}exp(\\beta_{t,z}^{v})}$\n",
    "### $ = \\Sigma_{k=1}^{K} \\mathbb{E}_{q(z)}{\\mathbb{1}(z_{t,d}^{n}=k)}\\mathbb{E}_{q(\\theta)}{log(\\theta_{t,d}^k)}+ \\mathbb{E}_{q(z)q(\\beta)} \\beta_{t,z}^{w} - \\mathbb{E}_{q(z)q(\\beta)}log{\\Sigma_{v=1}^{V}exp(\\beta_{t,z}^{v})}$\n",
    "###  $ = \\Sigma_{k=1}^{K} \\phi_{t,d}^{n,k}[\\psi(\\alpha_{t,d}^{k})-\\psi(\\Sigma_{j=1}^{K} \\alpha_{t,d}^{j})] + \\Sigma_{k=1}^{K} \\phi_{t,d}^{n,k} \\mathbb{E}_{q(\\beta)}\\beta_{t,k}^{w} - \\Sigma_{k=1}^{K} \\phi_{t,d}^{n,k} \\mathbb{E}_{q(\\beta)}log{\\Sigma_{v=1}^{V}exp(\\beta_{t,k}^{v})}$\n",
    "### $= \\Sigma_{k=1}^{K} \\phi_{t,d}^{n,k}[\\psi(\\alpha_{t,d}^{k})-\\psi(\\Sigma_{j=1}^{K} \\alpha_{t,d}^{j})+\\hat{\\beta}_{t,k}^{w} - \\mathbb{E}_{q(\\beta)}log{\\Sigma_{v=1}^{V}exp(\\beta_{t,k}^{v})} ]$\n",
    "### $ = <\\phi_{t,d}^{n}, \\nu>$ where $\\nu$ is a k-dim vector of the above [ . ]\n",
    "\n"
   ]
  },
  {
   "cell_type": "code",
   "execution_count": 21,
   "metadata": {
    "collapsed": true
   },
   "outputs": [],
   "source": [
    "sigma = 0.1\n",
    "mu_beta_t = np.zeros((T,K,V))\n"
   ]
  },
  {
   "cell_type": "code",
   "execution_count": 25,
   "metadata": {},
   "outputs": [
    {
     "data": {
      "text/plain": [
       "0.0"
      ]
     },
     "execution_count": 25,
     "metadata": {},
     "output_type": "execute_result"
    }
   ],
   "source": [
    "np.dot(mu_beta_t[1][0],np.zeros(V))"
   ]
  },
  {
   "cell_type": "code",
   "execution_count": 9,
   "metadata": {
    "collapsed": true
   },
   "outputs": [],
   "source": [
    "phi = np.empty((10,20,5))"
   ]
  },
  {
   "cell_type": "code",
   "execution_count": 10,
   "metadata": {},
   "outputs": [
    {
     "data": {
      "text/plain": [
       "array([[[ -1.72723371e-077,  -1.72723371e-077,   8.12775090e-043,\n",
       "           1.61410559e+132,   6.01347002e-154],\n",
       "        [  9.16281386e-072,   5.77686537e+175,   9.89803615e+164,\n",
       "           1.42137836e-076,   1.23769224e+224],\n",
       "        [  1.24679207e+243,   9.89803615e+164,   9.16281387e-072,\n",
       "           5.92942534e-114,   9.45956265e-076],\n",
       "        [  1.61410559e+132,   9.16281387e-072,   1.42137876e-076,\n",
       "           1.11416848e+218,   1.61410559e+132],\n",
       "        [  9.89803615e+164,   1.92078601e+136,   9.02193423e+217,\n",
       "           9.45956265e-076,   1.42137876e-076],\n",
       "        [  2.95164082e-075,   4.11017660e+223,   6.19941898e-071,\n",
       "           6.01347173e-154,   9.16281386e-072],\n",
       "        [  6.01347173e-154,   6.01347002e-154,   1.61410559e+132,\n",
       "           9.16281387e-072,   2.95147897e-075],\n",
       "        [  3.06370797e-057,   9.89803615e+164,   1.42137836e-076,\n",
       "           1.23769224e+224,   9.45956265e-076],\n",
       "        [  1.61410559e+132,   2.11396031e+257,   1.69724950e+137,\n",
       "           9.02193423e+217,   1.61410559e+132],\n",
       "        [  9.89803615e+164,   1.03307688e+136,   9.02193423e+217,\n",
       "           1.61410559e+132,   2.11454683e+257],\n",
       "        [  1.69724950e+137,   9.02193423e+217,   1.42137879e-076,\n",
       "           2.95164082e-075,   3.06370797e-057],\n",
       "        [  9.89803615e+164,   9.16281387e-072,   1.69812242e+137,\n",
       "           9.02193423e+217,   9.45956265e-076],\n",
       "        [  9.16281387e-072,   7.16631777e-090,   2.11741759e+257,\n",
       "           6.60925411e-062,   6.01347002e-154],\n",
       "        [  5.86031536e+135,   9.02193423e+217,   1.61410559e+132,\n",
       "           9.16281386e-072,   8.30024951e-013],\n",
       "        [  9.45956265e-076,   9.89803615e+164,   1.75384631e+243,\n",
       "           1.12285564e+219,   1.14365271e+243],\n",
       "        [  9.45956265e-076,   1.61410559e+132,   2.11396031e+257,\n",
       "           1.69724950e+137,   9.02193423e+217],\n",
       "        [  1.61410559e+132,   9.89803615e+164,   1.03307688e+136,\n",
       "           9.02193423e+217,   1.61410559e+132],\n",
       "        [  2.95164350e-075,   2.13412571e+257,   6.60925411e-062,\n",
       "           9.16281386e-072,   2.95147897e-075],\n",
       "        [  2.66120469e+233,   2.95164345e-075,   2.13412571e+257,\n",
       "           6.60925411e-062,   9.16281386e-072],\n",
       "        [  2.95147897e-075,   9.29602248e+242,   9.89803615e+164,\n",
       "           9.16281387e-072,   8.30024951e-013]],\n",
       "\n",
       "       [[  9.45956265e-076,   1.61410559e+132,   2.13594839e+257,\n",
       "           1.69724950e+137,   1.35301660e-023],\n",
       "        [  1.42137842e-076,   2.11161419e+257,   2.48053293e+185,\n",
       "           1.61410559e+132,   9.89803615e+164],\n",
       "        [  2.13883762e+136,   9.02193423e+217,   9.45956265e-076,\n",
       "           9.89803615e+164,   9.16281387e-072],\n",
       "        [  3.88590819e-109,   9.45956265e-076,   1.61410559e+132,\n",
       "           2.95164085e-075,   2.13412571e+257],\n",
       "        [  1.69724950e+137,   1.61410559e+132,   9.89803615e+164,\n",
       "           6.12573932e-154,   2.95152281e-075],\n",
       "        [  6.12572883e-154,   6.01347002e-154,   9.16281386e-072,\n",
       "           1.55743982e+243,   2.95164347e-075],\n",
       "        [  5.96971510e+135,   9.02193423e+217,   1.61410559e+132,\n",
       "           9.89803615e+164,   1.03307688e+136],\n",
       "        [  9.02193423e+217,   1.61410559e+132,   9.16281387e-072,\n",
       "           1.42137876e-076,   1.11416848e+218],\n",
       "        [  9.45956265e-076,   1.61410559e+132,   1.42137876e-076,\n",
       "           1.00385544e+218,   1.61471646e+136],\n",
       "        [  9.02193423e+217,   2.95147834e-075,   7.13325099e-067,\n",
       "           2.95162451e-075,   2.13412571e+257],\n",
       "        [  6.60925411e-062,   9.16281386e-072,   1.42137876e-076,\n",
       "           1.11416848e+218,   9.45956265e-076],\n",
       "        [  1.61410559e+132,   6.60420215e+135,   1.35301660e-023,\n",
       "           5.26276658e+170,   6.74179579e+199],\n",
       "        [  9.08254284e+223,   5.29372214e+180,   3.03181047e+180,\n",
       "           5.36368226e-080,   6.84976763e+180],\n",
       "        [  4.61559563e+281,   1.42137882e-076,   7.26610491e+223,\n",
       "           1.61410559e+132,   2.15772196e+233],\n",
       "        [  1.74967571e+243,   3.52683968e+233,   9.89803615e+164,\n",
       "           6.45221372e+270,   2.62383972e+233],\n",
       "        [  7.10580593e+159,   2.72757729e-110,   9.45956265e-076,\n",
       "           9.16281387e-072,   1.74203535e-152],\n",
       "        [  2.11799840e+257,   1.74160576e-152,   6.01347002e-154,\n",
       "           9.45956265e-076,   9.16281387e-072],\n",
       "        [  1.42137876e-076,   1.11416848e+218,   1.61410559e+132,\n",
       "           9.89803615e+164,   1.42137875e-076],\n",
       "        [  2.95164082e-075,   3.06370797e-057,   9.89803615e+164,\n",
       "           1.42137836e-076,   1.11416848e+218],\n",
       "        [  1.61410559e+132,   9.16281386e-072,   1.32265977e-070,\n",
       "           9.89803615e+164,   9.16281387e-072]],\n",
       "\n",
       "       [[  1.69812242e+137,   9.02193423e+217,   9.45956265e-076,\n",
       "           9.16281387e-072,   1.74203535e-152],\n",
       "        [  2.11829166e+257,   1.74160576e-152,   6.01347002e-154,\n",
       "           9.45956265e-076,   9.89803615e+164],\n",
       "        [  1.42137836e-076,   1.11416848e+218,   1.61410559e+132,\n",
       "           9.16281386e-072,   9.29976817e+199],\n",
       "        [  9.16281387e-072,   2.95147897e-075,   3.06370797e-057,\n",
       "           9.89803615e+164,   1.42137836e-076],\n",
       "        [  1.47671517e+137,   9.02193423e+217,   9.45956265e-076,\n",
       "           1.42137876e-076,   2.95164082e-075],\n",
       "        [  4.11017660e+223,   9.45956265e-076,   2.25066428e-153,\n",
       "           9.16281386e-072,   1.74180228e-152],\n",
       "        [  6.01347002e-154,   9.45956265e-076,   2.95162225e-075,\n",
       "           2.13412571e+257,   6.60925411e-062],\n",
       "        [  9.16281387e-072,   1.42137876e-076,   2.13360887e+257,\n",
       "           1.69724950e+137,   1.35301660e-023],\n",
       "        [  1.42137867e-076,   2.11161419e+257,   6.60925411e-062,\n",
       "           9.16281386e-072,   2.95147897e-075],\n",
       "        [  3.06370797e-057,   9.89803615e+164,   9.16281387e-072,\n",
       "           2.95162656e-075,   2.13412571e+257],\n",
       "        [  6.60925411e-062,   9.16281386e-072,   1.42137876e-076,\n",
       "           1.11416848e+218,   1.61410559e+132],\n",
       "        [  9.89803615e+164,   8.87709131e+135,   9.02193423e+217,\n",
       "           9.45956265e-076,   2.95149584e-075],\n",
       "        [  2.13412571e+257,   1.23362666e+272,   1.61410559e+132,\n",
       "           9.16281386e-072,   1.66898486e-099],\n",
       "        [  9.45956265e-076,   9.89803615e+164,   1.42137871e-076,\n",
       "           2.95164082e-075,   3.06370797e-057],\n",
       "        [  9.89803615e+164,   9.16281387e-072,   3.88590819e-109,\n",
       "           9.45956265e-076,   9.89803615e+164],\n",
       "        [  9.96734940e+135,   9.02193423e+217,   1.61410559e+132,\n",
       "           2.13594839e+257,   1.69724950e+137],\n",
       "        [  1.35301660e-023,   1.42137841e-076,   2.95164082e-075,\n",
       "           3.06370797e-057,   9.89803615e+164],\n",
       "        [  1.42137836e-076,   1.11416848e+218,   1.61410559e+132,\n",
       "           9.16281386e-072,   2.11629864e+257],\n",
       "        [  1.69724950e+137,   1.35301660e-023,   1.42137841e-076,\n",
       "           2.11161419e+257,   6.60925411e-062],\n",
       "        [  9.16281386e-072,   2.95147897e-075,   1.18774281e+137,\n",
       "           9.02193423e+217,   9.45956265e-076]],\n",
       "\n",
       "       [[  2.95160337e-075,   2.13412571e+257,   2.99878030e+209,\n",
       "           9.45956265e-076,   1.61410559e+132],\n",
       "        [  2.12950321e+257,   1.69724950e+137,   1.35301660e-023,\n",
       "           9.16281387e-072,   1.42137876e-076],\n",
       "        [  1.76540643e+137,   9.02193423e+217,   6.19941898e-071,\n",
       "           6.01347173e-154,   9.16281386e-072],\n",
       "        [  6.01347173e-154,   2.95147834e-075,   5.12529379e+199,\n",
       "           9.45956265e-076,   1.61410559e+132],\n",
       "        [  2.12891669e+257,   1.69724950e+137,   9.02193423e+217,\n",
       "           1.61410559e+132,   9.89803615e+164],\n",
       "        [  8.55535050e+136,   9.02193423e+217,   1.61410559e+132,\n",
       "           2.12011882e+257,   1.74160576e-152],\n",
       "        [  9.45956265e-076,   1.17605605e+136,   9.02193423e+217,\n",
       "           9.45956265e-076,   1.42137876e-076],\n",
       "        [  2.95164082e-075,   4.11017660e+223,   6.19941898e-071,\n",
       "           6.01347173e-154,   9.16281386e-072],\n",
       "        [  6.01347173e-154,   1.61410559e+132,   4.91374370e+252,\n",
       "           9.16281387e-072,   2.95147897e-075],\n",
       "        [  1.24966694e+243,   9.89803615e+164,   9.16281387e-072,\n",
       "           1.69812242e+137,   9.02193423e+217],\n",
       "        [  9.45956265e-076,   2.11212619e+257,   6.60925411e-062,\n",
       "           3.67293914e+228,   1.17119042e+166],\n",
       "        [  5.91870742e-061,   5.26616473e-090,   7.48269334e+247,\n",
       "           3.72806787e+227,   2.26427132e-080],\n",
       "        [  6.84976763e+180,   9.16281387e-072,   1.81450398e-152,\n",
       "           9.45956265e-076,   9.19596719e+170],\n",
       "        [  2.59619661e+161,   1.42137878e-076,   1.11416848e+218,\n",
       "           4.26336451e+180,   9.24931249e+135],\n",
       "        [  9.02193423e+217,   9.89803615e+164,   6.12573932e-154,\n",
       "           2.95151228e-075,   6.12572883e-154],\n",
       "        [  9.16281386e-072,   5.77686537e+175,   9.89803615e+164,\n",
       "           1.42137836e-076,   1.23769224e+224],\n",
       "        [  2.49360043e+243,   2.95165180e-075,   2.13412571e+257,\n",
       "           6.60925411e-062,   9.16281386e-072],\n",
       "        [  1.42137876e-076,   1.11416848e+218,   1.61410559e+132,\n",
       "           9.89803615e+164,   4.06900159e+233],\n",
       "        [  2.25658293e+137,   9.02193423e+217,   9.45956265e-076,\n",
       "           2.95149795e-075,   2.13412571e+257],\n",
       "        [  6.60925411e-062,   9.16281386e-072,   1.42137876e-076,\n",
       "           1.11416848e+218,   9.45956265e-076]],\n",
       "\n",
       "       [[  1.61410559e+132,   1.42137876e-076,   1.00385544e+218,\n",
       "           1.25186494e+136,   9.02193423e+217],\n",
       "        [  6.01347002e-154,   1.61410559e+132,   9.93669318e+247,\n",
       "           9.45956265e-076,   1.61410559e+132],\n",
       "        [  2.12891669e+257,   1.69724950e+137,   1.35301660e-023,\n",
       "           1.42137844e-076,   2.95164082e-075],\n",
       "        [  3.06370797e-057,   9.89803615e+164,   1.42137836e-076,\n",
       "           1.11416848e+218,   9.89803615e+164],\n",
       "        [  1.42137836e-076,   1.22448153e+218,   1.61410559e+132,\n",
       "           9.89803615e+164,   2.13413011e+257],\n",
       "        [  1.69724950e+137,   9.02193423e+217,   9.89803615e+164,\n",
       "           4.51430221e-091,   2.95151650e-075],\n",
       "        [  1.08844772e-071,   6.01347002e-154,   9.89803615e+164,\n",
       "           4.77882779e+180,   1.42137876e-076],\n",
       "        [  2.11161419e+257,   2.48053293e+185,   1.76971872e+137,\n",
       "           9.02193423e+217,   9.45956265e-076],\n",
       "        [  2.95149584e-075,   2.13412571e+257,   6.60925411e-062,\n",
       "           9.16281386e-072,   1.42137876e-076],\n",
       "        [  1.11416848e+218,   1.61410559e+132,   9.89803615e+164,\n",
       "           4.06900159e+233,   2.25658293e+137],\n",
       "        [  9.02193423e+217,   1.61410559e+132,   2.11484009e+257,\n",
       "           1.74160576e-152,   9.45956265e-076],\n",
       "        [  2.95165393e-075,   2.13412571e+257,   6.60925411e-062,\n",
       "           9.16281386e-072,   1.42137876e-076],\n",
       "        [  1.11416848e+218,   1.61410559e+132,   9.89803615e+164,\n",
       "           2.13413011e+257,   1.69724950e+137],\n",
       "        [  9.02193423e+217,   9.89803615e+164,   9.16281387e-072,\n",
       "           1.74203535e-152,   2.11712661e+257],\n",
       "        [  1.74160576e-152,   9.45956265e-076,   1.42137876e-076,\n",
       "           2.95164082e-075,   4.11017660e+223],\n",
       "        [  6.19941898e-071,   6.01347173e-154,   9.16281386e-072,\n",
       "           6.01347173e-154,   1.61410559e+132],\n",
       "        [  4.91374370e+252,   9.16281387e-072,   2.95147897e-075,\n",
       "           9.18628319e+170,   1.42137879e-076],\n",
       "        [  2.95164082e-075,   3.06370797e-057,   9.89803615e+164,\n",
       "           1.42137836e-076,   1.23769224e+224],\n",
       "        [  2.49360043e+243,   2.95165180e-075,   2.13412571e+257,\n",
       "           6.60925411e-062,   9.89803615e+164],\n",
       "        [  9.16281387e-072,   4.31442174e-096,   1.61410559e+132,\n",
       "           2.90479530e+020,   8.16208314e+034]],\n",
       "\n",
       "       [[  4.62463222e+252,   3.98926221e+252,   7.33726650e+223,\n",
       "           3.44056367e-085,   9.89803615e+164],\n",
       "        [  5.97144951e+135,   1.35301660e-023,   1.35352931e+166,\n",
       "           9.16281386e-072,   5.92942534e-114],\n",
       "        [  2.95149785e-075,   4.11017660e+223,   6.19941898e-071,\n",
       "           6.01347173e-154,   9.16281386e-072],\n",
       "        [  6.01347173e-154,   6.01347002e-154,   2.95147834e-075,\n",
       "           7.13325099e-067,   2.95162653e-075],\n",
       "        [  5.96971510e+135,   9.02193423e+217,   1.61410559e+132,\n",
       "           9.16281386e-072,   1.26651756e-017],\n",
       "        [  9.45956265e-076,   9.89803615e+164,   1.30385697e+137,\n",
       "           9.02193423e+217,   9.45956265e-076],\n",
       "        [  2.95150849e-075,   2.13412571e+257,   4.98776800e+098,\n",
       "           9.45956265e-076,   1.61410559e+132],\n",
       "        [  2.11542662e+257,   1.69724950e+137,   1.35301660e-023,\n",
       "           1.42137845e-076,   2.95164082e-075],\n",
       "        [  3.06370797e-057,   9.89803615e+164,   9.16281387e-072,\n",
       "           1.69812242e+137,   9.02193423e+217],\n",
       "        [  9.45956265e-076,   9.16281387e-072,   1.74203535e-152,\n",
       "           2.11771191e+257,   1.74160576e-152],\n",
       "        [  6.01347002e-154,   6.01347002e-154,   6.01347002e-154,\n",
       "           9.45956265e-076,   9.16281387e-072],\n",
       "        [  2.95147897e-075,   3.06370797e-057,   9.89803615e+164,\n",
       "           1.42137836e-076,   1.00385544e+218],\n",
       "        [  2.13066616e+257,   1.74160576e-152,   9.45956265e-076,\n",
       "           2.95161608e-075,   2.13412571e+257],\n",
       "        [  6.60925411e-062,   9.16281386e-072,   2.95147897e-075,\n",
       "           5.83379677e+257,   1.61410559e+132],\n",
       "        [  9.89803615e+164,   8.87709131e+135,   9.02193423e+217,\n",
       "           9.45956265e-076,   2.13388870e+257],\n",
       "        [  1.69724950e+137,   1.35301660e-023,   1.42137841e-076,\n",
       "           2.95164082e-075,   3.06370797e-057],\n",
       "        [  9.89803615e+164,   9.16281387e-072,   1.17215203e+171,\n",
       "           9.45956265e-076,   1.61410559e+132],\n",
       "        [  2.11571988e+257,   1.69724950e+137,   9.02193423e+217,\n",
       "           9.05605588e+271,   1.61410559e+132],\n",
       "        [  9.89803615e+164,   8.87709131e+135,   9.02193423e+217,\n",
       "           9.45956265e-076,   2.95161608e-075],\n",
       "        [  2.13412571e+257,   6.60925411e-062,   9.16281386e-072,\n",
       "           2.95147897e-075,   3.06370797e-057]],\n",
       "\n",
       "       [[  9.89803615e+164,   1.42137836e-076,   1.22448153e+218,\n",
       "           9.16281386e-072,   1.42137876e-076],\n",
       "        [  1.11416848e+218,   1.61410559e+132,   9.89803615e+164,\n",
       "           8.87709131e+135,   9.02193423e+217],\n",
       "        [  9.45956265e-076,   2.95162656e-075,   2.13412571e+257,\n",
       "           6.60925411e-062,   9.16281386e-072],\n",
       "        [  1.42137876e-076,   1.41745789e+190,   9.89803615e+164,\n",
       "           9.16281387e-072,   2.54666879e-104],\n",
       "        [  1.61410559e+132,   9.89803615e+164,   1.33931725e+136,\n",
       "           9.02193423e+217,   9.45956265e-076],\n",
       "        [  2.95149795e-075,   2.13412571e+257,   6.60925411e-062,\n",
       "           9.16281386e-072,   1.42137876e-076],\n",
       "        [  1.91087105e+137,   9.02193423e+217,   9.45956265e-076,\n",
       "           2.95150849e-075,   2.13412571e+257],\n",
       "        [  5.77544078e+175,   9.89803615e+164,   9.16281387e-072,\n",
       "           5.92942534e-114,   9.45956265e-076],\n",
       "        [  1.61410559e+132,   2.13068450e+257,   1.69724950e+137,\n",
       "           1.35301660e-023,   1.42137842e-076],\n",
       "        [  2.95164082e-075,   2.38941025e+180,   9.89803615e+164,\n",
       "           9.16281387e-072,   3.88590819e-109],\n",
       "        [  9.45956265e-076,   1.61410559e+132,   2.11161419e+257,\n",
       "           1.69724950e+137,   1.35301660e-023],\n",
       "        [  2.95160534e-075,   2.13412571e+257,   6.60925411e-062,\n",
       "           9.89803615e+164,   9.16281387e-072],\n",
       "        [  2.13446945e+257,   6.60925411e-062,   2.38667625e-038,\n",
       "           1.61410559e+132,   6.01390855e-154],\n",
       "        [  6.01347002e-154,   6.01347002e-154,   6.01347002e-154,\n",
       "           6.01347002e-154,   6.01347002e-154],\n",
       "        [  6.01347002e-154,   9.45956265e-076,   2.95150638e-075,\n",
       "           2.13412571e+257,   6.60925411e-062],\n",
       "        [  2.95151219e-075,   2.13412571e+257,   6.60925411e-062,\n",
       "           9.16281386e-072,   1.42137876e-076],\n",
       "        [  1.11416848e+218,   1.61410559e+132,   9.89803615e+164,\n",
       "           1.30385697e+137,   9.02193423e+217],\n",
       "        [  9.45956265e-076,   2.95150849e-075,   2.13412571e+257,\n",
       "           1.02043206e+248,   1.42137869e-076],\n",
       "        [  2.11161419e+257,   6.60925411e-062,   1.42137841e-076,\n",
       "           2.11161419e+257,   6.60925411e-062],\n",
       "        [  9.16281386e-072,   1.42137876e-076,   1.11416848e+218,\n",
       "           1.61410559e+132,   9.16281386e-072]],\n",
       "\n",
       "       [[  2.54666879e-104,   9.45956265e-076,   9.89803615e+164,\n",
       "           2.95164766e-075,   2.13412571e+257],\n",
       "        [  6.60925411e-062,   9.16281386e-072,   1.42137876e-076,\n",
       "           7.19232647e+252,   9.45956265e-076],\n",
       "        [  1.61410559e+132,   2.11396031e+257,   1.69724950e+137,\n",
       "           9.02193423e+217,   1.42137872e-076],\n",
       "        [  2.95164082e-075,   3.06370797e-057,   9.89803615e+164,\n",
       "           9.16281387e-072,   7.24633517e+165],\n",
       "        [  2.95165597e-075,   2.13412571e+257,   6.60925411e-062,\n",
       "           9.16281387e-072,   1.42137876e-076],\n",
       "        [  2.13624823e+257,   1.74160576e-152,   9.45956265e-076,\n",
       "           2.95150217e-075,   5.96971510e+135],\n",
       "        [  1.35301660e-023,   1.42137845e-076,   2.95164082e-075,\n",
       "           3.06370797e-057,   9.89803615e+164],\n",
       "        [  9.16281387e-072,   2.59112919e+132,   9.45956265e-076,\n",
       "           1.61410559e+132,   9.16281387e-072],\n",
       "        [  1.42137876e-076,   1.11416848e+218,   1.61410559e+132,\n",
       "           9.89803615e+164,   9.96734940e+135],\n",
       "        [  9.02193423e+217,   9.45956265e-076,   2.95162656e-075,\n",
       "           2.13412571e+257,   6.60925411e-062],\n",
       "        [  9.16281386e-072,   1.42137876e-076,   7.01404049e+151,\n",
       "           2.13623241e+257,   1.69724950e+137],\n",
       "        [  1.35301660e-023,   1.42137866e-076,   2.95164082e-075,\n",
       "           2.37548562e+137,   9.02193423e+217],\n",
       "        [  1.61410559e+132,   2.11542662e+257,   1.74160576e-152,\n",
       "           9.45956265e-076,   2.95151482e-075],\n",
       "        [  2.13412571e+257,   6.60925411e-062,   9.16281387e-072,\n",
       "           1.42137876e-076,   1.11416848e+218],\n",
       "        [  1.61410559e+132,   9.89803615e+164,   1.42137875e-076,\n",
       "           2.95164082e-075,   3.06370797e-057],\n",
       "        [  9.89803615e+164,   9.16281387e-072,   1.09378592e-094,\n",
       "           9.45956265e-076,   9.89803615e+164],\n",
       "        [  1.01493852e+137,   9.02193423e+217,   9.45956265e-076,\n",
       "           2.95149795e-075,   2.13412571e+257],\n",
       "        [  6.60925411e-062,   9.16281386e-072,   1.42137876e-076,\n",
       "           1.91087105e+137,   9.02193423e+217],\n",
       "        [  9.45956265e-076,   2.95150849e-075,   2.13412571e+257,\n",
       "           5.77544078e+175,   9.89803615e+164],\n",
       "        [  9.16281387e-072,   5.92942534e-114,   9.45956265e-076,\n",
       "           1.61410559e+132,   1.65025607e+137]],\n",
       "\n",
       "       [[  9.02193423e+217,   9.45956265e-076,   2.95150427e-075,\n",
       "           2.13412571e+257,   1.34469959e+166],\n",
       "        [  9.16281387e-072,   1.42137876e-076,   1.11416848e+218,\n",
       "           1.61410559e+132,   9.89803615e+164],\n",
       "        [  2.13413011e+257,   1.69724950e+137,   9.02193423e+217,\n",
       "           9.89803615e+164,   9.16281387e-072],\n",
       "        [  1.74203535e-152,   2.11829844e+257,   1.74160576e-152,\n",
       "           6.01347002e-154,   6.01347002e-154],\n",
       "        [  9.45956265e-076,   5.03736217e+180,   9.45956265e-076,\n",
       "           1.61410559e+132,   2.11923903e+257],\n",
       "        [  1.74160576e-152,   9.45956265e-076,   1.14400453e-012,\n",
       "           1.46915510e+195,   2.35624943e+251],\n",
       "        [  7.67582646e+170,   1.61410559e+132,   9.89803615e+164,\n",
       "           2.13413011e+257,   1.69724950e+137],\n",
       "        [  9.02193423e+217,   9.89803615e+164,   6.12573932e-154,\n",
       "           2.95152914e-075,   6.12572883e-154],\n",
       "        [  6.01347002e-154,   6.01347002e-154,   5.86031536e+135,\n",
       "           9.02193423e+217,   9.89803615e+164],\n",
       "        [  1.42137836e-076,   1.11416848e+218,   1.61410559e+132,\n",
       "           9.16281386e-072,   1.96576542e+214],\n",
       "        [  2.95161595e-075,   5.96971510e+135,   9.02193423e+217,\n",
       "           1.42137869e-076,   2.95164082e-075],\n",
       "        [  3.06370797e-057,   9.89803615e+164,   1.42137836e-076,\n",
       "           1.89304994e+219,   9.45956265e-076],\n",
       "        [  1.61410559e+132,   2.11396031e+257,   1.69724950e+137,\n",
       "           9.02193423e+217,   2.95163912e-075],\n",
       "        [  2.13412571e+257,   6.60925411e-062,   9.16281386e-072,\n",
       "           1.42137876e-076,   1.11416848e+218],\n",
       "        [  1.61410559e+132,   9.89803615e+164,   1.13100917e+137,\n",
       "           9.02193423e+217,   9.45956265e-076],\n",
       "        [  2.95150849e-075,   2.13412571e+257,   1.96528066e+214,\n",
       "           6.06008706e+233,   9.45956265e-076],\n",
       "        [  1.61410559e+132,   2.11396031e+257,   1.69724950e+137,\n",
       "           9.02193423e+217,   1.42137869e-076],\n",
       "        [  2.95164082e-075,   3.06370797e-057,   9.89803615e+164,\n",
       "           1.42137836e-076,   1.11416848e+218],\n",
       "        [  1.61410559e+132,   9.16281386e-072,   2.01821865e-075,\n",
       "           9.89803615e+164,   9.16281387e-072],\n",
       "        [  3.07873365e-080,   9.45956265e-076,   1.61410559e+132,\n",
       "           2.11396031e+257,   1.69724950e+137]],\n",
       "\n",
       "       [[  9.02193423e+217,   1.42137872e-076,   2.95164082e-075,\n",
       "           3.06370797e-057,   9.89803615e+164],\n",
       "        [  9.16281387e-072,   1.03305597e+219,   1.61410559e+132,\n",
       "           9.16281386e-072,   2.54666879e-104],\n",
       "        [  1.61410559e+132,   9.16281386e-072,   8.66818309e-066,\n",
       "           9.45956265e-076,   1.61410559e+132],\n",
       "        [  2.11425357e+257,   1.69724950e+137,   1.35301660e-023,\n",
       "           1.42137841e-076,   2.95164082e-075],\n",
       "        [  3.77901771e+233,   9.45956265e-076,   1.61410559e+132,\n",
       "           2.11571988e+257,   1.69724950e+137],\n",
       "        [  9.02193423e+217,   9.16281387e-072,   1.42137876e-076,\n",
       "           1.11416848e+218,   1.61410559e+132],\n",
       "        [  9.89803615e+164,   1.01493852e+137,   9.02193423e+217,\n",
       "           9.45956265e-076,   2.95150427e-075],\n",
       "        [  2.13412571e+257,   1.34469959e+166,   9.16281387e-072,\n",
       "           1.42137876e-076,   1.11416848e+218],\n",
       "        [  1.61410559e+132,   9.89803615e+164,   5.96971978e+135,\n",
       "           9.02193423e+217,   9.45956265e-076],\n",
       "        [  2.12919073e+257,   1.69724950e+137,   1.35301660e-023,\n",
       "           9.16281387e-072,   1.42137876e-076],\n",
       "        [  7.78052187e-143,   9.89803615e+164,   8.89115793e+179,\n",
       "           1.83573525e+223,   2.37697104e+137],\n",
       "        [  9.02193423e+217,   6.11136196e+223,   8.79622725e+179,\n",
       "           1.83573525e+223,   1.04758173e-142],\n",
       "        [  5.55603593e+180,   4.47612533e-091,   1.87725413e-009,\n",
       "           8.71065491e+183,   2.12693646e-259],\n",
       "        [  1.12547821e-153,   6.12501441e+257,   1.27267989e-104,\n",
       "           1.57588666e-052,   1.27285021e-104],\n",
       "        [  1.87725413e-009,   5.70861480e+188,   2.12693646e-259,\n",
       "           1.12547821e-153,   6.12501441e+257],\n",
       "        [  9.74274412e-154,   8.24227448e-072,   6.21881573e-071,\n",
       "           5.98176997e-154,   1.18028922e+243],\n",
       "        [  9.09136099e+276,   4.61559563e+281,   8.44747281e+252,\n",
       "           8.74936135e+189,   6.01346953e-154],\n",
       "        [  6.46336731e+170,   1.29555774e+184,   2.58727396e+161,\n",
       "           9.91599680e-096,   1.03103423e-259],\n",
       "        [  7.39986987e-038,   1.08516484e-042,   5.20267278e-090,\n",
       "           6.01346953e-154,   6.01346953e-154],\n",
       "        [  1.04270227e+208,   6.13329869e+228,   1.71360474e+214,\n",
       "           2.65438175e+233,   2.43904909e-154]]])"
      ]
     },
     "execution_count": 10,
     "metadata": {},
     "output_type": "execute_result"
    }
   ],
   "source": [
    "phi"
   ]
  },
  {
   "cell_type": "code",
   "execution_count": 31,
   "metadata": {},
   "outputs": [
    {
     "data": {
      "text/plain": [
       "array([[ 0.,  0.,  1.,  0.,  0.,  0.],\n",
       "       [ 0.,  0.,  0.,  1.,  0.,  0.],\n",
       "       [ 1.,  0.,  0.,  0.,  0.,  0.],\n",
       "       [ 0.,  0.,  0.,  0.,  0.,  1.],\n",
       "       [ 0.,  0.,  0.,  0.,  0.,  1.],\n",
       "       [ 0.,  0.,  1.,  0.,  0.,  0.],\n",
       "       [ 0.,  1.,  0.,  0.,  0.,  0.],\n",
       "       [ 0.,  1.,  0.,  0.,  0.,  0.],\n",
       "       [ 0.,  1.,  0.,  0.,  0.,  0.]])"
      ]
     },
     "execution_count": 31,
     "metadata": {},
     "output_type": "execute_result"
    }
   ],
   "source": [
    "B_t_k = np.zeros(6)\n",
    "doc_t_d = np.array([2,3,0,5,5,2,1,1,1])\n",
    "one_hot = np.array([np.eye(6)[idx] for idx in doc_t_d])\n",
    "one_hot"
   ]
  },
  {
   "cell_type": "code",
   "execution_count": 32,
   "metadata": {},
   "outputs": [],
   "source": [
    "B_t_k += np.dot(np.array([10,20,30,40,50,60,70,80,90]),one_hot)"
   ]
  },
  {
   "cell_type": "code",
   "execution_count": 33,
   "metadata": {},
   "outputs": [
    {
     "data": {
      "text/plain": [
       "array([  30.,  240.,   70.,   20.,    0.,   90.])"
      ]
     },
     "execution_count": 33,
     "metadata": {},
     "output_type": "execute_result"
    }
   ],
   "source": [
    "B_t_k"
   ]
  },
  {
   "cell_type": "code",
   "execution_count": 34,
   "metadata": {},
   "outputs": [
    {
     "data": {
      "text/plain": [
       "array([[1, 2, 3],\n",
       "       [4, 5, 6]])"
      ]
     },
     "execution_count": 34,
     "metadata": {},
     "output_type": "execute_result"
    }
   ],
   "source": [
    "ab = np.array([[1,2,3],[4,5,6]])\n",
    "ab"
   ]
  },
  {
   "cell_type": "code",
   "execution_count": 35,
   "metadata": {},
   "outputs": [
    {
     "data": {
      "text/plain": [
       "array([[1, 4],\n",
       "       [2, 5],\n",
       "       [3, 6]])"
      ]
     },
     "execution_count": 35,
     "metadata": {},
     "output_type": "execute_result"
    }
   ],
   "source": [
    "ab.transpose()"
   ]
  },
  {
   "cell_type": "code",
   "execution_count": null,
   "metadata": {
    "collapsed": true
   },
   "outputs": [],
   "source": []
  }
 ],
 "metadata": {
  "kernelspec": {
   "display_name": "Python 3",
   "language": "python",
   "name": "python3"
  },
  "language_info": {
   "codemirror_mode": {
    "name": "ipython",
    "version": 3
   },
   "file_extension": ".py",
   "mimetype": "text/x-python",
   "name": "python",
   "nbconvert_exporter": "python",
   "pygments_lexer": "ipython3",
   "version": "3.6.3"
  }
 },
 "nbformat": 4,
 "nbformat_minor": 2
}
